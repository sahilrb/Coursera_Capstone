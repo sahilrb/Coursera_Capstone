{
  "nbformat": 4,
  "nbformat_minor": 0,
  "metadata": {
    "colab": {
      "name": "Visualizinng_Cluuster.ipynb",
      "provenance": [],
      "collapsed_sections": []
    },
    "kernelspec": {
      "name": "python3",
      "display_name": "Python 3"
    }
  },
  "cells": [
    {
      "cell_type": "markdown",
      "metadata": {
        "id": "OP26qdDIXDSY",
        "colab_type": "text"
      },
      "source": [
        "#**Visualizing Resulting Cluster**"
      ]
    },
    {
      "cell_type": "code",
      "metadata": {
        "id": "6bIoDRnqW15L",
        "colab_type": "code",
        "colab": {}
      },
      "source": [
        "import matplotlib.pyplot as plt\n",
        "\n",
        "\n",
        "fig = plt.figure(figsize=(15,10))\n",
        "\n",
        "colors = plt.cm.Spectral(np.linspace(0,1,len(set(k_means_labels))))\n",
        "ax = fig.add._subplot(1,1,1)\n",
        "\n",
        "for k,col in zip(range(len([[4,4],[-2,-1],[2,-3],[1,1,]])),colors):\n",
        "  my_members = (k_means_labels == k)\n",
        "  cluster_center = k_means_cluster_centers[k]\n",
        "  ax.plot(X[my_members,0],X[my_members,1],'w',markerfacecolor=col,marker='.') \n",
        "  ax.plot(cluster_center[0],cluster_center[1],'o',markerfacecolor=col,markeredgecolor='k', markersize=6)\n",
        "\n",
        "ax.set_title('KMeans')\n",
        "ax.set_xticks(())\n",
        "ax.set_yticks(())\n",
        "\n",
        "plt.show()"
      ],
      "execution_count": null,
      "outputs": []
    }
  ]
}