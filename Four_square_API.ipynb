{
  "nbformat": 4,
  "nbformat_minor": 0,
  "metadata": {
    "colab": {
      "name": "Four_square_API.ipynb",
      "provenance": []
    },
    "kernelspec": {
      "name": "python3",
      "display_name": "Python 3"
    }
  },
  "cells": [
    {
      "cell_type": "markdown",
      "metadata": {
        "id": "OToiELQeNzrD",
        "colab_type": "text"
      },
      "source": [
        "#**Introduction**"
      ]
    },
    {
      "cell_type": "markdown",
      "metadata": {
        "id": "kfqOUwEsN2mm",
        "colab_type": "text"
      },
      "source": [
        "In this lab, you will learn in details how to make calls to the Foursquare API for different purposes. You will learn how to construct a URL to send a request to the API to search for a specific type of venues, to explore a particular venue, to explore a Foursquare user, to explore a geographical location, and to get trending venues around a location. Also, you will learn how to use the visualization library, Folium, to visualize the results."
      ]
    },
    {
      "cell_type": "markdown",
      "metadata": {
        "id": "M0HFdeFRN8SK",
        "colab_type": "text"
      },
      "source": [
        "##**Table of Contents**\n",
        "1. Foursquare API Search Function\n",
        "2. Explore a Given Venue\n",
        "3. Explore a User\n",
        "4. Foursquare API Explore Function\n",
        "5. Get Trending Venues"
      ]
    },
    {
      "cell_type": "markdown",
      "metadata": {
        "id": "JnKW17JQOmgc",
        "colab_type": "text"
      },
      "source": [
        "##**Import necessary Libraries**"
      ]
    },
    {
      "cell_type": "code",
      "metadata": {
        "id": "hlATjKHvNr3D",
        "colab_type": "code",
        "colab": {
          "base_uri": "https://localhost:8080/",
          "height": 90
        },
        "outputId": "3eba0b35-c142-4c7c-b713-02eca6668f20"
      },
      "source": [
        "import requests # library to handle requests\n",
        "import pandas as pd # library for data analsysis\n",
        "import numpy as np # library to handle data in a vectorized manner\n",
        "import random # library for random number generation\n",
        "\n",
        "!conda install -c conda-forge geopy --yes \n",
        "from geopy.geocoders import Nominatim # module to convert an address into latitude and longitude values\n",
        "\n",
        "# libraries for displaying images\n",
        "from IPython.display import Image \n",
        "from IPython.core.display import HTML \n",
        "    \n",
        "# tranforming json file into a pandas dataframe library\n",
        "from pandas.io.json import json_normalize\n",
        "\n",
        "!conda install -c conda-forge folium=0.5.0 --yes\n",
        "import folium # plotting library\n",
        "\n",
        "print('Folium installed')\n",
        "print('Libraries imported.')"
      ],
      "execution_count": 1,
      "outputs": [
        {
          "output_type": "stream",
          "text": [
            "/bin/bash: conda: command not found\n",
            "/bin/bash: conda: command not found\n",
            "Folium installed\n",
            "Libraries imported.\n"
          ],
          "name": "stdout"
        }
      ]
    },
    {
      "cell_type": "markdown",
      "metadata": {
        "id": "iA9OHU4ROz1i",
        "colab_type": "text"
      },
      "source": [
        "##**Define Foursquare Credentials and Version**"
      ]
    },
    {
      "cell_type": "markdown",
      "metadata": {
        "id": "Uk0h0CXOO9KJ",
        "colab_type": "text"
      },
      "source": [
        "**Make sure that you have created a Foursquare developer account and have your credentials handy**"
      ]
    },
    {
      "cell_type": "code",
      "metadata": {
        "id": "Ms5JSL1POwQy",
        "colab_type": "code",
        "colab": {
          "base_uri": "https://localhost:8080/",
          "height": 72
        },
        "outputId": "3882a7af-263b-4c4d-e0e9-e00c5c3c26a1"
      },
      "source": [
        "\n",
        "CLIENT_ID = 'IEO3BCOMPMVDENSQXFGQOO21FUGTKIV1ZX01F4LNKLV0PK25' # your Foursquare ID\n",
        "CLIENT_SECRET = 'XNJPG4KKQYJR2ZJM1PFS1FBAOM3APZ32TT2KDDQ3QNBPWCV0' # your Foursquare Secret\n",
        "VERSION = '20200628'\n",
        "LIMIT = 30\n",
        "print('Your credentails:')\n",
        "print('CLIENT_ID: ' + CLIENT_ID)\n",
        "print('CLIENT_SECRET:' + CLIENT_SECRET)"
      ],
      "execution_count": 2,
      "outputs": [
        {
          "output_type": "stream",
          "text": [
            "Your credentails:\n",
            "CLIENT_ID: IEO3BCOMPMVDENSQXFGQOO21FUGTKIV1ZX01F4LNKLV0PK25\n",
            "CLIENT_SECRET:XNJPG4KKQYJR2ZJM1PFS1FBAOM3APZ32TT2KDDQ3QNBPWCV0\n"
          ],
          "name": "stdout"
        }
      ]
    },
    {
      "cell_type": "code",
      "metadata": {
        "id": "2evQFyFoPCye",
        "colab_type": "code",
        "colab": {
          "base_uri": "https://localhost:8080/",
          "height": 35
        },
        "outputId": "d582227c-7839-4817-e099-95cf2356d42f"
      },
      "source": [
        "address = '102 North End Ave, New York, NY'\n",
        "\n",
        "geolocator = Nominatim(user_agent=\"foursquare_agent\")\n",
        "location = geolocator.geocode(address)\n",
        "latitude = location.latitude\n",
        "longitude = location.longitude\n",
        "print(latitude, longitude)\n"
      ],
      "execution_count": 3,
      "outputs": [
        {
          "output_type": "stream",
          "text": [
            "40.7149555 -74.0153365\n"
          ],
          "name": "stdout"
        }
      ]
    },
    {
      "cell_type": "code",
      "metadata": {
        "id": "6KpAwBPMPG4N",
        "colab_type": "code",
        "colab": {
          "base_uri": "https://localhost:8080/",
          "height": 55
        },
        "outputId": "b28fa454-9a45-4561-80e2-ff40956ae790"
      },
      "source": [
        "print(dir(location))"
      ],
      "execution_count": 4,
      "outputs": [
        {
          "output_type": "stream",
          "text": [
            "['__class__', '__delattr__', '__dir__', '__doc__', '__eq__', '__format__', '__ge__', '__getattribute__', '__getitem__', '__getstate__', '__gt__', '__hash__', '__init__', '__init_subclass__', '__iter__', '__le__', '__len__', '__lt__', '__module__', '__ne__', '__new__', '__reduce__', '__reduce_ex__', '__repr__', '__setattr__', '__setstate__', '__sizeof__', '__slots__', '__str__', '__subclasshook__', '__unicode__', '_address', '_point', '_raw', '_tuple', 'address', 'altitude', 'latitude', 'longitude', 'point', 'raw']\n"
          ],
          "name": "stdout"
        }
      ]
    },
    {
      "cell_type": "markdown",
      "metadata": {
        "id": "Fviz6Jo4PL1S",
        "colab_type": "text"
      },
      "source": [
        "###**1. Search for a specific venue category**"
      ]
    },
    {
      "cell_type": "markdown",
      "metadata": {
        "id": "7onV_sVaPrQZ",
        "colab_type": "text"
      },
      "source": [
        "https://api.foursquare.com/v2/venues/search?client_id=CLIENT_ID&client_secret=CLIENT_SECRET&ll=LATITUDE,LONGITUDE&v=VERSION&query=QUERY&radius=RADIUS&limit=LIMIT\n",
        "\n"
      ]
    },
    {
      "cell_type": "markdown",
      "metadata": {
        "id": "M1i6x8HXPwEB",
        "colab_type": "text"
      },
      "source": [
        "**Now, let's assume that it is lunch time, and you are craving Italian food. So, let's define a query to search for Italian food that is within 500 metres from the Conrad Hotel**"
      ]
    },
    {
      "cell_type": "code",
      "metadata": {
        "id": "7Jm6CWh9PI-5",
        "colab_type": "code",
        "colab": {
          "base_uri": "https://localhost:8080/",
          "height": 35
        },
        "outputId": "0613a48f-621a-4a59-c1ec-f6683a933798"
      },
      "source": [
        "search_query = 'Italian'\n",
        "radius = 500\n",
        "print(search_query + ' .... OK!')"
      ],
      "execution_count": 5,
      "outputs": [
        {
          "output_type": "stream",
          "text": [
            "Italian .... OK!\n"
          ],
          "name": "stdout"
        }
      ]
    },
    {
      "cell_type": "code",
      "metadata": {
        "id": "0Z-3Eop4Pztu",
        "colab_type": "code",
        "colab": {
          "base_uri": "https://localhost:8080/",
          "height": 54
        },
        "outputId": "80f4813a-a928-4865-a128-ea36ecf9314d"
      },
      "source": [
        "url = 'https://api.foursquare.com/v2/venues/search?client_id={}&client_secret={}&ll={},{}&v={}&query={}&radius={}&limit={}'.format(CLIENT_ID, CLIENT_SECRET, latitude, longitude, VERSION, search_query, radius, LIMIT)\n",
        "url"
      ],
      "execution_count": 6,
      "outputs": [
        {
          "output_type": "execute_result",
          "data": {
            "application/vnd.google.colaboratory.intrinsic+json": {
              "type": "string"
            },
            "text/plain": [
              "'https://api.foursquare.com/v2/venues/search?client_id=IEO3BCOMPMVDENSQXFGQOO21FUGTKIV1ZX01F4LNKLV0PK25&client_secret=XNJPG4KKQYJR2ZJM1PFS1FBAOM3APZ32TT2KDDQ3QNBPWCV0&ll=40.7149555,-74.0153365&v=20200628&query=Italian&radius=500&limit=30'"
            ]
          },
          "metadata": {
            "tags": []
          },
          "execution_count": 6
        }
      ]
    },
    {
      "cell_type": "markdown",
      "metadata": {
        "id": "fJiLX3waRKSA",
        "colab_type": "text"
      },
      "source": [
        "**Send the GET Request and examine the results**"
      ]
    },
    {
      "cell_type": "code",
      "metadata": {
        "id": "ypyyVm0VRJ5u",
        "colab_type": "code",
        "colab": {
          "base_uri": "https://localhost:8080/",
          "height": 1508
        },
        "outputId": "c2c505d0-4a3d-4205-a095-af6354e66dae"
      },
      "source": [
        "results = requests.get(url).json()\n",
        "results"
      ],
      "execution_count": 7,
      "outputs": [
        {
          "output_type": "execute_result",
          "data": {
            "text/plain": [
              "{'meta': {'code': 200, 'requestId': '5f66fb3031f8166f50d16473'},\n",
              " 'response': {'venues': [{'categories': [{'icon': {'prefix': 'https://ss3.4sqi.net/img/categories_v2/food/pizza_',\n",
              "       'suffix': '.png'},\n",
              "      'id': '4bf58dd8d48988d1ca941735',\n",
              "      'name': 'Pizza Place',\n",
              "      'pluralName': 'Pizza Places',\n",
              "      'primary': True,\n",
              "      'shortName': 'Pizza'}],\n",
              "    'hasPerk': False,\n",
              "    'id': '4fa862b3e4b0ebff2f749f06',\n",
              "    'location': {'address': '225 Murray St',\n",
              "     'cc': 'US',\n",
              "     'city': 'New York',\n",
              "     'country': 'United States',\n",
              "     'distance': 58,\n",
              "     'formattedAddress': ['225 Murray St',\n",
              "      'New York, NY 10282',\n",
              "      'United States'],\n",
              "     'labeledLatLngs': [{'label': 'display',\n",
              "       'lat': 40.71521779064671,\n",
              "       'lng': -74.01473940209351},\n",
              "      {'label': 'entrance', 'lat': 40.715361, 'lng': -74.014975}],\n",
              "     'lat': 40.71521779064671,\n",
              "     'lng': -74.01473940209351,\n",
              "     'postalCode': '10282',\n",
              "     'state': 'NY'},\n",
              "    'name': \"Harry's Italian Pizza Bar\",\n",
              "    'referralId': 'v-1600584496'},\n",
              "   {'categories': [{'icon': {'prefix': 'https://ss3.4sqi.net/img/categories_v2/food/default_',\n",
              "       'suffix': '.png'},\n",
              "      'id': '4d4b7105d754a06374d81259',\n",
              "      'name': 'Food',\n",
              "      'pluralName': 'Food',\n",
              "      'primary': True,\n",
              "      'shortName': 'Food'}],\n",
              "    'hasPerk': False,\n",
              "    'id': '4f3232e219836c91c7bfde94',\n",
              "    'location': {'address': '63 W Broadway',\n",
              "     'cc': 'US',\n",
              "     'city': 'New York',\n",
              "     'country': 'United States',\n",
              "     'distance': 469,\n",
              "     'formattedAddress': ['63 W Broadway',\n",
              "      'New York, NY 10007',\n",
              "      'United States'],\n",
              "     'labeledLatLngs': [{'label': 'display',\n",
              "       'lat': 40.714484000000006,\n",
              "       'lng': -74.00980600000001}],\n",
              "     'lat': 40.714484000000006,\n",
              "     'lng': -74.00980600000001,\n",
              "     'postalCode': '10007',\n",
              "     'state': 'NY'},\n",
              "    'name': 'Conca Cucina Italian Restaurant',\n",
              "    'referralId': 'v-1600584496'},\n",
              "   {'categories': [{'icon': {'prefix': 'https://ss3.4sqi.net/img/categories_v2/food/italian_',\n",
              "       'suffix': '.png'},\n",
              "      'id': '4bf58dd8d48988d110941735',\n",
              "      'name': 'Italian Restaurant',\n",
              "      'pluralName': 'Italian Restaurants',\n",
              "      'primary': True,\n",
              "      'shortName': 'Italian'}],\n",
              "    'hasPerk': False,\n",
              "    'id': '3fd66200f964a520f4e41ee3',\n",
              "    'location': {'address': '124 Chambers St',\n",
              "     'cc': 'US',\n",
              "     'city': 'New York',\n",
              "     'country': 'United States',\n",
              "     'crossStreet': 'btwn Church St & W Broadway',\n",
              "     'distance': 549,\n",
              "     'formattedAddress': ['124 Chambers St (btwn Church St & W Broadway)',\n",
              "      'New York, NY 10007',\n",
              "      'United States'],\n",
              "     'labeledLatLngs': [{'label': 'display',\n",
              "       'lat': 40.71533713859952,\n",
              "       'lng': -74.00884766217825},\n",
              "      {'label': 'entrance', 'lat': 40.715202, 'lng': -74.008779}],\n",
              "     'lat': 40.71533713859952,\n",
              "     'lng': -74.00884766217825,\n",
              "     'postalCode': '10007',\n",
              "     'state': 'NY'},\n",
              "    'name': 'Ecco',\n",
              "    'referralId': 'v-1600584496'}]}}"
            ]
          },
          "metadata": {
            "tags": []
          },
          "execution_count": 7
        }
      ]
    },
    {
      "cell_type": "markdown",
      "metadata": {
        "id": "QAk8N6VFRTT0",
        "colab_type": "text"
      },
      "source": [
        "**Get relevant part of JSON and transform it into a pandas dataframe**"
      ]
    },
    {
      "cell_type": "code",
      "metadata": {
        "id": "vhjxsXmeP2AU",
        "colab_type": "code",
        "colab": {
          "base_uri": "https://localhost:8080/",
          "height": 315
        },
        "outputId": "38788fa1-7863-4e7a-d241-f48a199a0a2c"
      },
      "source": [
        "# assign relevant part of JSON to venues\n",
        "venues = results['response']['venues']\n",
        "\n",
        "# tranform venues into a dataframe\n",
        "dataframe = json_normalize(venues)\n",
        "dataframe.head()"
      ],
      "execution_count": 8,
      "outputs": [
        {
          "output_type": "stream",
          "text": [
            "/usr/local/lib/python3.6/dist-packages/ipykernel_launcher.py:5: FutureWarning: pandas.io.json.json_normalize is deprecated, use pandas.json_normalize instead\n",
            "  \"\"\"\n"
          ],
          "name": "stderr"
        },
        {
          "output_type": "execute_result",
          "data": {
            "text/html": [
              "<div>\n",
              "<style scoped>\n",
              "    .dataframe tbody tr th:only-of-type {\n",
              "        vertical-align: middle;\n",
              "    }\n",
              "\n",
              "    .dataframe tbody tr th {\n",
              "        vertical-align: top;\n",
              "    }\n",
              "\n",
              "    .dataframe thead th {\n",
              "        text-align: right;\n",
              "    }\n",
              "</style>\n",
              "<table border=\"1\" class=\"dataframe\">\n",
              "  <thead>\n",
              "    <tr style=\"text-align: right;\">\n",
              "      <th></th>\n",
              "      <th>id</th>\n",
              "      <th>name</th>\n",
              "      <th>categories</th>\n",
              "      <th>referralId</th>\n",
              "      <th>hasPerk</th>\n",
              "      <th>location.address</th>\n",
              "      <th>location.lat</th>\n",
              "      <th>location.lng</th>\n",
              "      <th>location.labeledLatLngs</th>\n",
              "      <th>location.distance</th>\n",
              "      <th>location.postalCode</th>\n",
              "      <th>location.cc</th>\n",
              "      <th>location.city</th>\n",
              "      <th>location.state</th>\n",
              "      <th>location.country</th>\n",
              "      <th>location.formattedAddress</th>\n",
              "      <th>location.crossStreet</th>\n",
              "    </tr>\n",
              "  </thead>\n",
              "  <tbody>\n",
              "    <tr>\n",
              "      <th>0</th>\n",
              "      <td>4fa862b3e4b0ebff2f749f06</td>\n",
              "      <td>Harry's Italian Pizza Bar</td>\n",
              "      <td>[{'id': '4bf58dd8d48988d1ca941735', 'name': 'P...</td>\n",
              "      <td>v-1600584496</td>\n",
              "      <td>False</td>\n",
              "      <td>225 Murray St</td>\n",
              "      <td>40.715218</td>\n",
              "      <td>-74.014739</td>\n",
              "      <td>[{'label': 'display', 'lat': 40.71521779064671...</td>\n",
              "      <td>58</td>\n",
              "      <td>10282</td>\n",
              "      <td>US</td>\n",
              "      <td>New York</td>\n",
              "      <td>NY</td>\n",
              "      <td>United States</td>\n",
              "      <td>[225 Murray St, New York, NY 10282, United Sta...</td>\n",
              "      <td>NaN</td>\n",
              "    </tr>\n",
              "    <tr>\n",
              "      <th>1</th>\n",
              "      <td>4f3232e219836c91c7bfde94</td>\n",
              "      <td>Conca Cucina Italian Restaurant</td>\n",
              "      <td>[{'id': '4d4b7105d754a06374d81259', 'name': 'F...</td>\n",
              "      <td>v-1600584496</td>\n",
              "      <td>False</td>\n",
              "      <td>63 W Broadway</td>\n",
              "      <td>40.714484</td>\n",
              "      <td>-74.009806</td>\n",
              "      <td>[{'label': 'display', 'lat': 40.71448400000000...</td>\n",
              "      <td>469</td>\n",
              "      <td>10007</td>\n",
              "      <td>US</td>\n",
              "      <td>New York</td>\n",
              "      <td>NY</td>\n",
              "      <td>United States</td>\n",
              "      <td>[63 W Broadway, New York, NY 10007, United Sta...</td>\n",
              "      <td>NaN</td>\n",
              "    </tr>\n",
              "    <tr>\n",
              "      <th>2</th>\n",
              "      <td>3fd66200f964a520f4e41ee3</td>\n",
              "      <td>Ecco</td>\n",
              "      <td>[{'id': '4bf58dd8d48988d110941735', 'name': 'I...</td>\n",
              "      <td>v-1600584496</td>\n",
              "      <td>False</td>\n",
              "      <td>124 Chambers St</td>\n",
              "      <td>40.715337</td>\n",
              "      <td>-74.008848</td>\n",
              "      <td>[{'label': 'display', 'lat': 40.71533713859952...</td>\n",
              "      <td>549</td>\n",
              "      <td>10007</td>\n",
              "      <td>US</td>\n",
              "      <td>New York</td>\n",
              "      <td>NY</td>\n",
              "      <td>United States</td>\n",
              "      <td>[124 Chambers St (btwn Church St &amp; W Broadway)...</td>\n",
              "      <td>btwn Church St &amp; W Broadway</td>\n",
              "    </tr>\n",
              "  </tbody>\n",
              "</table>\n",
              "</div>"
            ],
            "text/plain": [
              "                         id  ...         location.crossStreet\n",
              "0  4fa862b3e4b0ebff2f749f06  ...                          NaN\n",
              "1  4f3232e219836c91c7bfde94  ...                          NaN\n",
              "2  3fd66200f964a520f4e41ee3  ...  btwn Church St & W Broadway\n",
              "\n",
              "[3 rows x 17 columns]"
            ]
          },
          "metadata": {
            "tags": []
          },
          "execution_count": 8
        }
      ]
    },
    {
      "cell_type": "markdown",
      "metadata": {
        "id": "9HwWaSErRcTD",
        "colab_type": "text"
      },
      "source": [
        "**Define information of interest and filter dataframe**"
      ]
    },
    {
      "cell_type": "code",
      "metadata": {
        "id": "ycmPqDrvRXej",
        "colab_type": "code",
        "colab": {
          "base_uri": "https://localhost:8080/",
          "height": 296
        },
        "outputId": "1fe6bbce-24da-4815-daaa-18bb76391cf7"
      },
      "source": [
        "filtered_columns = ['name', 'categories'] + [col for col in dataframe.columns if col.startswith('location.')] + ['id']\n",
        "dataframe_filtered = dataframe.loc[:, filtered_columns]\n",
        "\n",
        "# function that extracts the category of the venue\n",
        "def get_category_type(row):\n",
        "    try:\n",
        "        categories_list = row['categories']\n",
        "    except:\n",
        "        categories_list = row['venue.categories']\n",
        "        \n",
        "    if len(categories_list) == 0:\n",
        "        return None\n",
        "    else:\n",
        "        return categories_list[0]['name']\n",
        "\n",
        "# filter the category for each row\n",
        "dataframe_filtered['categories'] = dataframe_filtered.apply(get_category_type, axis=1)\n",
        "\n",
        "# clean column names by keeping only last term\n",
        "dataframe_filtered.columns = [column.split('.')[-1] for column in dataframe_filtered.columns]\n",
        "\n",
        "dataframe_filtered"
      ],
      "execution_count": 9,
      "outputs": [
        {
          "output_type": "execute_result",
          "data": {
            "text/html": [
              "<div>\n",
              "<style scoped>\n",
              "    .dataframe tbody tr th:only-of-type {\n",
              "        vertical-align: middle;\n",
              "    }\n",
              "\n",
              "    .dataframe tbody tr th {\n",
              "        vertical-align: top;\n",
              "    }\n",
              "\n",
              "    .dataframe thead th {\n",
              "        text-align: right;\n",
              "    }\n",
              "</style>\n",
              "<table border=\"1\" class=\"dataframe\">\n",
              "  <thead>\n",
              "    <tr style=\"text-align: right;\">\n",
              "      <th></th>\n",
              "      <th>name</th>\n",
              "      <th>categories</th>\n",
              "      <th>address</th>\n",
              "      <th>lat</th>\n",
              "      <th>lng</th>\n",
              "      <th>labeledLatLngs</th>\n",
              "      <th>distance</th>\n",
              "      <th>postalCode</th>\n",
              "      <th>cc</th>\n",
              "      <th>city</th>\n",
              "      <th>state</th>\n",
              "      <th>country</th>\n",
              "      <th>formattedAddress</th>\n",
              "      <th>crossStreet</th>\n",
              "      <th>id</th>\n",
              "    </tr>\n",
              "  </thead>\n",
              "  <tbody>\n",
              "    <tr>\n",
              "      <th>0</th>\n",
              "      <td>Harry's Italian Pizza Bar</td>\n",
              "      <td>Pizza Place</td>\n",
              "      <td>225 Murray St</td>\n",
              "      <td>40.715218</td>\n",
              "      <td>-74.014739</td>\n",
              "      <td>[{'label': 'display', 'lat': 40.71521779064671...</td>\n",
              "      <td>58</td>\n",
              "      <td>10282</td>\n",
              "      <td>US</td>\n",
              "      <td>New York</td>\n",
              "      <td>NY</td>\n",
              "      <td>United States</td>\n",
              "      <td>[225 Murray St, New York, NY 10282, United Sta...</td>\n",
              "      <td>NaN</td>\n",
              "      <td>4fa862b3e4b0ebff2f749f06</td>\n",
              "    </tr>\n",
              "    <tr>\n",
              "      <th>1</th>\n",
              "      <td>Conca Cucina Italian Restaurant</td>\n",
              "      <td>Food</td>\n",
              "      <td>63 W Broadway</td>\n",
              "      <td>40.714484</td>\n",
              "      <td>-74.009806</td>\n",
              "      <td>[{'label': 'display', 'lat': 40.71448400000000...</td>\n",
              "      <td>469</td>\n",
              "      <td>10007</td>\n",
              "      <td>US</td>\n",
              "      <td>New York</td>\n",
              "      <td>NY</td>\n",
              "      <td>United States</td>\n",
              "      <td>[63 W Broadway, New York, NY 10007, United Sta...</td>\n",
              "      <td>NaN</td>\n",
              "      <td>4f3232e219836c91c7bfde94</td>\n",
              "    </tr>\n",
              "    <tr>\n",
              "      <th>2</th>\n",
              "      <td>Ecco</td>\n",
              "      <td>Italian Restaurant</td>\n",
              "      <td>124 Chambers St</td>\n",
              "      <td>40.715337</td>\n",
              "      <td>-74.008848</td>\n",
              "      <td>[{'label': 'display', 'lat': 40.71533713859952...</td>\n",
              "      <td>549</td>\n",
              "      <td>10007</td>\n",
              "      <td>US</td>\n",
              "      <td>New York</td>\n",
              "      <td>NY</td>\n",
              "      <td>United States</td>\n",
              "      <td>[124 Chambers St (btwn Church St &amp; W Broadway)...</td>\n",
              "      <td>btwn Church St &amp; W Broadway</td>\n",
              "      <td>3fd66200f964a520f4e41ee3</td>\n",
              "    </tr>\n",
              "  </tbody>\n",
              "</table>\n",
              "</div>"
            ],
            "text/plain": [
              "                              name  ...                        id\n",
              "0        Harry's Italian Pizza Bar  ...  4fa862b3e4b0ebff2f749f06\n",
              "1  Conca Cucina Italian Restaurant  ...  4f3232e219836c91c7bfde94\n",
              "2                             Ecco  ...  3fd66200f964a520f4e41ee3\n",
              "\n",
              "[3 rows x 15 columns]"
            ]
          },
          "metadata": {
            "tags": []
          },
          "execution_count": 9
        }
      ]
    },
    {
      "cell_type": "markdown",
      "metadata": {
        "id": "IfT928CdRiQY",
        "colab_type": "text"
      },
      "source": [
        "**Let's visualize the Italian restaurants that are nearby**"
      ]
    },
    {
      "cell_type": "code",
      "metadata": {
        "id": "EHWOzoTzRbYu",
        "colab_type": "code",
        "colab": {
          "base_uri": "https://localhost:8080/",
          "height": 90
        },
        "outputId": "6aa2fe92-6830-47ef-eea8-f9b6cfddda64"
      },
      "source": [
        "dataframe_filtered.name"
      ],
      "execution_count": 10,
      "outputs": [
        {
          "output_type": "execute_result",
          "data": {
            "text/plain": [
              "0          Harry's Italian Pizza Bar\n",
              "1    Conca Cucina Italian Restaurant\n",
              "2                               Ecco\n",
              "Name: name, dtype: object"
            ]
          },
          "metadata": {
            "tags": []
          },
          "execution_count": 10
        }
      ]
    },
    {
      "cell_type": "code",
      "metadata": {
        "id": "sUUJe8QfRhfH",
        "colab_type": "code",
        "colab": {
          "base_uri": "https://localhost:8080/",
          "height": 244
        },
        "outputId": "11612658-2247-4f17-87db-e2f693b1c151"
      },
      "source": [
        "venues_map = folium.Map(location=[latitude, longitude], zoom_start=13)\n",
        "\n",
        "# add a red circle marker to represent the Conrad Hotel\n",
        "folium.features.CircleMarker(\n",
        "    [latitude, longitude],\n",
        "    radius=10,\n",
        "    color='red',\n",
        "    popup='Conrad Hotel',\n",
        "    fill = True,\n",
        "    fill_color = 'red',\n",
        "    fill_opacity = 0.6\n",
        ").add_to(venues_map)\n",
        "\n",
        "# add the Italian restaurants as blue circle markers\n",
        "for lat, lng, label in zip(dataframe_filtered.lat, dataframe_filtered.lng, dataframe_filtered.categories):\n",
        "    folium.features.CircleMarker(\n",
        "        [lat, lng],\n",
        "        radius=5,\n",
        "        color='blue',\n",
        "        popup=label,\n",
        "        fill = True,\n",
        "        fill_color='blue',\n",
        "        fill_opacity=0.6\n",
        "    ).add_to(venues_map)\n",
        "\n",
        "# display map\n",
        "venues_map"
      ],
      "execution_count": 14,
      "outputs": [
        {
          "output_type": "error",
          "ename": "AttributeError",
          "evalue": "ignored",
          "traceback": [
            "\u001b[0;31m---------------------------------------------------------------------------\u001b[0m",
            "\u001b[0;31mAttributeError\u001b[0m                            Traceback (most recent call last)",
            "\u001b[0;32m<ipython-input-14-4a0fd6667b47>\u001b[0m in \u001b[0;36m<module>\u001b[0;34m()\u001b[0m\n\u001b[1;32m      1\u001b[0m \u001b[0mvenues_map\u001b[0m \u001b[0;34m=\u001b[0m \u001b[0mfolium\u001b[0m\u001b[0;34m.\u001b[0m\u001b[0mMap\u001b[0m\u001b[0;34m(\u001b[0m\u001b[0mlocation\u001b[0m\u001b[0;34m=\u001b[0m\u001b[0;34m[\u001b[0m\u001b[0mlatitude\u001b[0m\u001b[0;34m,\u001b[0m \u001b[0mlongitude\u001b[0m\u001b[0;34m]\u001b[0m\u001b[0;34m,\u001b[0m \u001b[0mzoom_start\u001b[0m\u001b[0;34m=\u001b[0m\u001b[0;36m13\u001b[0m\u001b[0;34m)\u001b[0m\u001b[0;34m\u001b[0m\u001b[0;34m\u001b[0m\u001b[0m\n\u001b[1;32m      2\u001b[0m \u001b[0;31m# add a red circle marker to represent the Conrad Hotel\u001b[0m\u001b[0;34m\u001b[0m\u001b[0;34m\u001b[0m\u001b[0;34m\u001b[0m\u001b[0m\n\u001b[0;32m----> 3\u001b[0;31m folium.features.CircleMarker(\n\u001b[0m\u001b[1;32m      4\u001b[0m     \u001b[0;34m[\u001b[0m\u001b[0mlatitude\u001b[0m\u001b[0;34m,\u001b[0m \u001b[0mlongitude\u001b[0m\u001b[0;34m]\u001b[0m\u001b[0;34m,\u001b[0m\u001b[0;34m\u001b[0m\u001b[0;34m\u001b[0m\u001b[0m\n\u001b[1;32m      5\u001b[0m     \u001b[0mradius\u001b[0m\u001b[0;34m=\u001b[0m\u001b[0;36m10\u001b[0m\u001b[0;34m,\u001b[0m\u001b[0;34m\u001b[0m\u001b[0;34m\u001b[0m\u001b[0m\n",
            "\u001b[0;31mAttributeError\u001b[0m: module 'folium.features' has no attribute 'CircleMarker'"
          ]
        }
      ]
    },
    {
      "cell_type": "markdown",
      "metadata": {
        "id": "_3RJPIKfSzYg",
        "colab_type": "text"
      },
      "source": [
        "##**2. Explore a Given Venue**"
      ]
    },
    {
      "cell_type": "markdown",
      "metadata": {
        "id": "Y0he0W02S3xZ",
        "colab_type": "text"
      },
      "source": [
        "https://api.foursquare.com/v2/venues/VENUE_ID?client_id=CLIENT_ID&client_secret=CLIENT_SECRET&v=VERSION"
      ]
    },
    {
      "cell_type": "markdown",
      "metadata": {
        "id": "NMIkYgHyS7w3",
        "colab_type": "text"
      },
      "source": [
        "**A. Let's explore the closest Italian restaurant -- Harry's Italian Pizza Bar**"
      ]
    },
    {
      "cell_type": "code",
      "metadata": {
        "id": "4ZHsqUvuRo5X",
        "colab_type": "code",
        "colab": {
          "base_uri": "https://localhost:8080/",
          "height": 54
        },
        "outputId": "33d7a4f8-4213-4223-ea09-ff8c826aa0be"
      },
      "source": [
        "\n",
        "venue_id = '4fa862b3e4b0ebff2f749f06' # ID of Harry's Italian Pizza Bar\n",
        "url = 'https://api.foursquare.com/v2/venues/{}?client_id={}&client_secret={}&v={}'.format(venue_id, CLIENT_ID, CLIENT_SECRET, VERSION)\n",
        "url"
      ],
      "execution_count": 15,
      "outputs": [
        {
          "output_type": "execute_result",
          "data": {
            "application/vnd.google.colaboratory.intrinsic+json": {
              "type": "string"
            },
            "text/plain": [
              "'https://api.foursquare.com/v2/venues/4fa862b3e4b0ebff2f749f06?client_id=IEO3BCOMPMVDENSQXFGQOO21FUGTKIV1ZX01F4LNKLV0PK25&client_secret=XNJPG4KKQYJR2ZJM1PFS1FBAOM3APZ32TT2KDDQ3QNBPWCV0&v=20200628'"
            ]
          },
          "metadata": {
            "tags": []
          },
          "execution_count": 15
        }
      ]
    },
    {
      "cell_type": "code",
      "metadata": {
        "id": "ELDl8JyyS--Y",
        "colab_type": "code",
        "colab": {
          "base_uri": "https://localhost:8080/",
          "height": 6110
        },
        "outputId": "9517f555-d7ec-4081-9a46-71ac32b7f589"
      },
      "source": [
        "result = requests.get(url).json()\n",
        "print(result['response']['venue'].keys())\n",
        "result['response']['venue']"
      ],
      "execution_count": 16,
      "outputs": [
        {
          "output_type": "stream",
          "text": [
            "dict_keys(['id', 'name', 'contact', 'location', 'canonicalUrl', 'categories', 'verified', 'stats', 'url', 'price', 'hasMenu', 'likes', 'dislike', 'ok', 'rating', 'ratingColor', 'ratingSignals', 'menu', 'allowMenuUrlEdit', 'beenHere', 'specials', 'photos', 'reasons', 'hereNow', 'createdAt', 'tips', 'shortUrl', 'timeZone', 'listed', 'hours', 'popular', 'seasonalHours', 'defaultHours', 'pageUpdates', 'inbox', 'attributes', 'bestPhoto', 'colors'])\n"
          ],
          "name": "stdout"
        },
        {
          "output_type": "execute_result",
          "data": {
            "text/plain": [
              "{'allowMenuUrlEdit': True,\n",
              " 'attributes': {'groups': [{'count': 1,\n",
              "    'items': [{'displayName': 'Price', 'displayValue': '$$', 'priceTier': 2}],\n",
              "    'name': 'Price',\n",
              "    'summary': '$$',\n",
              "    'type': 'price'},\n",
              "   {'count': 7,\n",
              "    'items': [{'displayName': 'Credit Cards',\n",
              "      'displayValue': 'Yes (incl. American Express)'}],\n",
              "    'name': 'Credit Cards',\n",
              "    'summary': 'Credit Cards',\n",
              "    'type': 'payments'},\n",
              "   {'count': 1,\n",
              "    'items': [{'displayName': 'Outdoor Seating', 'displayValue': 'Yes'}],\n",
              "    'name': 'Outdoor Seating',\n",
              "    'summary': 'Outdoor Seating',\n",
              "    'type': 'outdoorSeating'},\n",
              "   {'count': 8,\n",
              "    'items': [{'displayName': 'Brunch', 'displayValue': 'Brunch'},\n",
              "     {'displayName': 'Lunch', 'displayValue': 'Lunch'},\n",
              "     {'displayName': 'Dinner', 'displayValue': 'Dinner'},\n",
              "     {'displayName': 'Happy Hour', 'displayValue': 'Happy Hour'}],\n",
              "    'name': 'Menus',\n",
              "    'summary': 'Happy Hour, Brunch & more',\n",
              "    'type': 'serves'},\n",
              "   {'count': 5,\n",
              "    'items': [{'displayName': 'Beer', 'displayValue': 'Beer'},\n",
              "     {'displayName': 'Wine', 'displayValue': 'Wine'},\n",
              "     {'displayName': 'Cocktails', 'displayValue': 'Cocktails'}],\n",
              "    'name': 'Drinks',\n",
              "    'summary': 'Beer, Wine & Cocktails',\n",
              "    'type': 'drinks'}]},\n",
              " 'beenHere': {'count': 0,\n",
              "  'lastCheckinExpiredAt': 0,\n",
              "  'marked': False,\n",
              "  'unconfirmedCount': 0},\n",
              " 'bestPhoto': {'createdAt': 1336776717,\n",
              "  'height': 640,\n",
              "  'id': '4fad980de4b091b4626c3633',\n",
              "  'prefix': 'https://fastly.4sqi.net/img/general/',\n",
              "  'source': {'name': 'Foursquare for Android',\n",
              "   'url': 'https://foursquare.com/download/#/android'},\n",
              "  'suffix': '/ya1iQFI7pLjuIJp1PGDKlrZS3OJdHCF7tpILMmjv_2w.jpg',\n",
              "  'visibility': 'public',\n",
              "  'width': 480},\n",
              " 'canonicalUrl': 'https://foursquare.com/v/harrys-italian-pizza-bar/4fa862b3e4b0ebff2f749f06',\n",
              " 'categories': [{'icon': {'prefix': 'https://ss3.4sqi.net/img/categories_v2/food/pizza_',\n",
              "    'suffix': '.png'},\n",
              "   'id': '4bf58dd8d48988d1ca941735',\n",
              "   'name': 'Pizza Place',\n",
              "   'pluralName': 'Pizza Places',\n",
              "   'primary': True,\n",
              "   'shortName': 'Pizza'},\n",
              "  {'icon': {'prefix': 'https://ss3.4sqi.net/img/categories_v2/food/italian_',\n",
              "    'suffix': '.png'},\n",
              "   'id': '4bf58dd8d48988d110941735',\n",
              "   'name': 'Italian Restaurant',\n",
              "   'pluralName': 'Italian Restaurants',\n",
              "   'shortName': 'Italian'}],\n",
              " 'colors': {'algoVersion': 3,\n",
              "  'highlightColor': {'photoId': '4fad980de4b091b4626c3633',\n",
              "   'value': -13619152},\n",
              "  'highlightTextColor': {'photoId': '4fad980de4b091b4626c3633', 'value': -1}},\n",
              " 'contact': {'formattedPhone': '(212) 608-1007', 'phone': '2126081007'},\n",
              " 'createdAt': 1336435379,\n",
              " 'defaultHours': {'dayData': [],\n",
              "  'isLocalHoliday': False,\n",
              "  'isOpen': False,\n",
              "  'richStatus': {'entities': [], 'text': 'Closed until 11:30 AM'},\n",
              "  'status': 'Closed until 11:30 AM',\n",
              "  'timeframes': [{'days': 'Mon–Wed, Sun',\n",
              "    'includesToday': True,\n",
              "    'open': [{'renderedTime': '11:30 AM–11:00 PM'}],\n",
              "    'segments': []},\n",
              "   {'days': 'Thu–Sat',\n",
              "    'open': [{'renderedTime': '11:30 AM–Midnight'}],\n",
              "    'segments': []}]},\n",
              " 'dislike': False,\n",
              " 'hasMenu': True,\n",
              " 'hereNow': {'count': 0, 'groups': [], 'summary': 'Nobody here'},\n",
              " 'hours': {'dayData': [],\n",
              "  'isLocalHoliday': False,\n",
              "  'isOpen': False,\n",
              "  'richStatus': {'entities': [], 'text': 'Closed until 11:30 AM'},\n",
              "  'status': 'Closed until 11:30 AM',\n",
              "  'timeframes': [{'days': 'Mon–Wed, Sun',\n",
              "    'includesToday': True,\n",
              "    'open': [{'renderedTime': '11:30 AM–11:00 PM'}],\n",
              "    'segments': []},\n",
              "   {'days': 'Thu–Sat',\n",
              "    'open': [{'renderedTime': '11:30 AM–Midnight'}],\n",
              "    'segments': []}]},\n",
              " 'id': '4fa862b3e4b0ebff2f749f06',\n",
              " 'inbox': {'count': 0, 'items': []},\n",
              " 'likes': {'count': 120,\n",
              "  'groups': [{'count': 120, 'items': [], 'type': 'others'}],\n",
              "  'summary': '120 Likes'},\n",
              " 'listed': {'count': 54,\n",
              "  'groups': [{'count': 54,\n",
              "    'items': [{'canonicalUrl': 'https://foursquare.com/becca_mcarthur/list/manhattan-haunts',\n",
              "      'collaborative': False,\n",
              "      'createdAt': 1336094672,\n",
              "      'description': '',\n",
              "      'editable': False,\n",
              "      'followers': {'count': 22},\n",
              "      'id': '4fa32fd0e4b04193744746b1',\n",
              "      'listItems': {'count': 187,\n",
              "       'items': [{'createdAt': 1342934485,\n",
              "         'id': 'v4fa862b3e4b0ebff2f749f06'}]},\n",
              "      'name': 'Manhattan Haunts',\n",
              "      'photo': {'createdAt': 1317849414,\n",
              "       'height': 330,\n",
              "       'id': '4e8cc9461081e3b3544e12e5',\n",
              "       'prefix': 'https://fastly.4sqi.net/img/general/',\n",
              "       'suffix': '/0NLVU2HC1JF4DXIMKWUFW3QBUT31DC11EFNYYHMJG3NDWAPS.jpg',\n",
              "       'user': {'firstName': 'Time Out New York',\n",
              "        'id': '742542',\n",
              "        'photo': {'prefix': 'https://fastly.4sqi.net/img/user/',\n",
              "         'suffix': '/XXHKCBSQHBORZNSR.jpg'},\n",
              "        'type': 'page'},\n",
              "       'visibility': 'public',\n",
              "       'width': 492},\n",
              "      'public': True,\n",
              "      'type': 'others',\n",
              "      'updatedAt': 1380845377,\n",
              "      'url': '/becca_mcarthur/list/manhattan-haunts',\n",
              "      'user': {'firstName': 'Becca',\n",
              "       'id': '24592223',\n",
              "       'lastName': 'M',\n",
              "       'photo': {'prefix': 'https://fastly.4sqi.net/img/user/',\n",
              "        'suffix': '/24592223-RAW2UYM0GIB1U40K.jpg'}}},\n",
              "     {'canonicalUrl': 'https://foursquare.com/kinosfault/list/usa-nyc-man-fidi',\n",
              "      'collaborative': False,\n",
              "      'createdAt': 1336836475,\n",
              "      'description': 'Where to go for decent eats in the restaurant wasteland of Downtown NYC aka FiDi, along with Tribeca & Battery Park City.',\n",
              "      'editable': False,\n",
              "      'followers': {'count': 20},\n",
              "      'id': '4fae817be4b085f6b2a74d19',\n",
              "      'listItems': {'count': 273,\n",
              "       'items': [{'createdAt': 1373909433,\n",
              "         'id': 'v4fa862b3e4b0ebff2f749f06'}]},\n",
              "      'name': 'USA NYC MAN FiDi',\n",
              "      'photo': {'createdAt': 1436043666,\n",
              "       'height': 960,\n",
              "       'id': '55984992498e13ba75e353bb',\n",
              "       'prefix': 'https://fastly.4sqi.net/img/general/',\n",
              "       'suffix': '/12113441_iOa6Uh-Xi8bhj2-gpzkkw8MKiAIs7RmOcz_RM7m8ink.jpg',\n",
              "       'user': {'firstName': 'Kino',\n",
              "        'id': '12113441',\n",
              "        'photo': {'prefix': 'https://fastly.4sqi.net/img/user/',\n",
              "         'suffix': '/12113441-K5HTHFLU2MUCM0CM.jpg'}},\n",
              "       'visibility': 'public',\n",
              "       'width': 540},\n",
              "      'public': True,\n",
              "      'type': 'others',\n",
              "      'updatedAt': 1556754919,\n",
              "      'url': '/kinosfault/list/usa-nyc-man-fidi',\n",
              "      'user': {'firstName': 'Kino',\n",
              "       'id': '12113441',\n",
              "       'photo': {'prefix': 'https://fastly.4sqi.net/img/user/',\n",
              "        'suffix': '/12113441-K5HTHFLU2MUCM0CM.jpg'}}},\n",
              "     {'canonicalUrl': 'https://foursquare.com/rickr7/list/nyc-resturants',\n",
              "      'collaborative': True,\n",
              "      'createdAt': 1339944944,\n",
              "      'description': '',\n",
              "      'editable': False,\n",
              "      'followers': {'count': 12},\n",
              "      'id': '4fddeff0e4b0e078037ac0d3',\n",
              "      'listItems': {'count': 191,\n",
              "       'items': [{'createdAt': 1581655865,\n",
              "         'id': 'v4fa862b3e4b0ebff2f749f06'}]},\n",
              "      'name': 'NYC Resturants',\n",
              "      'photo': {'createdAt': 1349704979,\n",
              "       'height': 800,\n",
              "       'id': '5072dd13e4b09145cdf782d1',\n",
              "       'prefix': 'https://fastly.4sqi.net/img/general/',\n",
              "       'suffix': '/208205_fGh2OuAZ9qJ4agbAA5wMVNOSIm9kNUlRtNwj1N-adqg.jpg',\n",
              "       'user': {'firstName': 'Thalia',\n",
              "        'id': '208205',\n",
              "        'lastName': 'K',\n",
              "        'photo': {'prefix': 'https://fastly.4sqi.net/img/user/',\n",
              "         'suffix': '/SNOOLCAW2AG04ZKD.jpg'}},\n",
              "       'visibility': 'public',\n",
              "       'width': 800},\n",
              "      'public': True,\n",
              "      'type': 'others',\n",
              "      'updatedAt': 1599812951,\n",
              "      'url': '/rickr7/list/nyc-resturants',\n",
              "      'user': {'firstName': 'Richard',\n",
              "       'id': '21563126',\n",
              "       'lastName': 'R',\n",
              "       'photo': {'prefix': 'https://fastly.4sqi.net/img/user/',\n",
              "        'suffix': '/21563126_v05J1KPw_SVj6Ehq9g8B9jeAGjFUMsU5QGl-NZ8inUQ7pKQm5bKplW37EmR7jS2A7GYPBBAtl.jpg'}}},\n",
              "     {'canonicalUrl': 'https://foursquare.com/sweetiewill/list/foodie-love-in-ny--02',\n",
              "      'collaborative': False,\n",
              "      'createdAt': 1382467210,\n",
              "      'description': '',\n",
              "      'editable': False,\n",
              "      'followers': {'count': 7},\n",
              "      'id': '5266c68a498e7c667807fe09',\n",
              "      'listItems': {'count': 200,\n",
              "       'items': [{'createdAt': 1386809936,\n",
              "         'id': 'v4fa862b3e4b0ebff2f749f06'}]},\n",
              "      'name': 'Foodie Love in NY - 02',\n",
              "      'public': True,\n",
              "      'type': 'others',\n",
              "      'updatedAt': 1391995585,\n",
              "      'url': '/sweetiewill/list/foodie-love-in-ny--02',\n",
              "      'user': {'firstName': 'WiLL',\n",
              "       'id': '547977',\n",
              "       'photo': {'prefix': 'https://fastly.4sqi.net/img/user/',\n",
              "        'suffix': '/-Q5NYGDMFDMOITQRR.jpg'}}}],\n",
              "    'name': 'Lists from other people',\n",
              "    'type': 'others'}]},\n",
              " 'location': {'address': '225 Murray St',\n",
              "  'cc': 'US',\n",
              "  'city': 'New York',\n",
              "  'country': 'United States',\n",
              "  'formattedAddress': ['225 Murray St', 'New York, NY 10282', 'United States'],\n",
              "  'labeledLatLngs': [{'label': 'display',\n",
              "    'lat': 40.71521779064671,\n",
              "    'lng': -74.01473940209351},\n",
              "   {'label': 'entrance', 'lat': 40.715361, 'lng': -74.014975}],\n",
              "  'lat': 40.71521779064671,\n",
              "  'lng': -74.01473940209351,\n",
              "  'postalCode': '10282',\n",
              "  'state': 'NY'},\n",
              " 'menu': {'anchor': 'View Menu',\n",
              "  'label': 'Menu',\n",
              "  'mobileUrl': 'https://foursquare.com/v/4fa862b3e4b0ebff2f749f06/device_menu',\n",
              "  'type': 'Menu',\n",
              "  'url': 'https://foursquare.com/v/harrys-italian-pizza-bar/4fa862b3e4b0ebff2f749f06/menu'},\n",
              " 'name': \"Harry's Italian Pizza Bar\",\n",
              " 'ok': False,\n",
              " 'pageUpdates': {'count': 0, 'items': []},\n",
              " 'photos': {'count': 146,\n",
              "  'groups': [{'count': 146,\n",
              "    'items': [{'createdAt': 1336776717,\n",
              "      'height': 640,\n",
              "      'id': '4fad980de4b091b4626c3633',\n",
              "      'prefix': 'https://fastly.4sqi.net/img/general/',\n",
              "      'source': {'name': 'Foursquare for Android',\n",
              "       'url': 'https://foursquare.com/download/#/android'},\n",
              "      'suffix': '/ya1iQFI7pLjuIJp1PGDKlrZS3OJdHCF7tpILMmjv_2w.jpg',\n",
              "      'user': {'firstName': 'Leony',\n",
              "       'id': '13676709',\n",
              "       'lastName': 'N',\n",
              "       'photo': {'prefix': 'https://fastly.4sqi.net/img/user/',\n",
              "        'suffix': '/T0ANFNGNMCHUDEUE.jpg'}},\n",
              "      'visibility': 'public',\n",
              "      'width': 480}],\n",
              "    'name': 'Venue photos',\n",
              "    'type': 'venue'}]},\n",
              " 'popular': {'isLocalHoliday': False,\n",
              "  'isOpen': False,\n",
              "  'timeframes': [{'days': 'Today',\n",
              "    'includesToday': True,\n",
              "    'open': [{'renderedTime': 'Noon–3:00 PM'},\n",
              "     {'renderedTime': '5:00 PM–8:00 PM'}],\n",
              "    'segments': []},\n",
              "   {'days': 'Mon',\n",
              "    'open': [{'renderedTime': 'Noon–2:00 PM'},\n",
              "     {'renderedTime': '6:00 PM–8:00 PM'}],\n",
              "    'segments': []},\n",
              "   {'days': 'Tue–Thu',\n",
              "    'open': [{'renderedTime': 'Noon–2:00 PM'},\n",
              "     {'renderedTime': '5:00 PM–10:00 PM'}],\n",
              "    'segments': []},\n",
              "   {'days': 'Fri',\n",
              "    'open': [{'renderedTime': 'Noon–3:00 PM'},\n",
              "     {'renderedTime': '5:00 PM–11:00 PM'}],\n",
              "    'segments': []},\n",
              "   {'days': 'Sat',\n",
              "    'open': [{'renderedTime': 'Noon–11:00 PM'}],\n",
              "    'segments': []}]},\n",
              " 'price': {'currency': '$', 'message': 'Moderate', 'tier': 2},\n",
              " 'rating': 6.8,\n",
              " 'ratingColor': 'FFC800',\n",
              " 'ratingSignals': 212,\n",
              " 'reasons': {'count': 1,\n",
              "  'items': [{'reasonName': 'rawLikesReason',\n",
              "    'summary': 'Lots of people like this place',\n",
              "    'type': 'general'}]},\n",
              " 'seasonalHours': [],\n",
              " 'shortUrl': 'http://4sq.com/JNblHV',\n",
              " 'specials': {'count': 0, 'items': []},\n",
              " 'stats': {'tipCount': 57},\n",
              " 'timeZone': 'America/New_York',\n",
              " 'tips': {'count': 57,\n",
              "  'groups': [{'count': 57,\n",
              "    'items': [{'agreeCount': 4,\n",
              "      'canonicalUrl': 'https://foursquare.com/item/53d27909498e0523841340b6',\n",
              "      'createdAt': 1406302473,\n",
              "      'disagreeCount': 0,\n",
              "      'id': '53d27909498e0523841340b6',\n",
              "      'lang': 'en',\n",
              "      'likes': {'count': 4,\n",
              "       'groups': [{'count': 4,\n",
              "         'items': [{'firstName': 'P.',\n",
              "           'id': '369426',\n",
              "           'lastName': 'M',\n",
              "           'photo': {'prefix': 'https://fastly.4sqi.net/img/user/',\n",
              "            'suffix': '/JPQYUWJKUT0H2OO4.jpg'}},\n",
              "          {'firstName': 'Diane',\n",
              "           'id': '87587879',\n",
              "           'lastName': 'D',\n",
              "           'photo': {'prefix': 'https://fastly.4sqi.net/img/user/',\n",
              "            'suffix': '/87587879-ESLRSZLQ2CBE2P4W.jpg'}},\n",
              "          {'firstName': 'Tim',\n",
              "           'id': '87591341',\n",
              "           'lastName': 'S',\n",
              "           'photo': {'prefix': 'https://fastly.4sqi.net/img/user/',\n",
              "            'suffix': '/-Z4YK4VKE0JSVXIY1.jpg'}},\n",
              "          {'firstName': 'TenantKing.com',\n",
              "           'id': '87473404',\n",
              "           'photo': {'prefix': 'https://fastly.4sqi.net/img/user/',\n",
              "            'suffix': '/87473404-HI5DTBTK0HX401CA.png'},\n",
              "           'type': 'page'}],\n",
              "         'type': 'others'}],\n",
              "       'summary': '4 likes'},\n",
              "      'logView': True,\n",
              "      'text': \"Harry's Italian Pizza bar is known for it's amazing pizza, but did you know that the brunches here are amazing too? Try the Nutella French toast and we know you'll be sold.\",\n",
              "      'todo': {'count': 0},\n",
              "      'type': 'user',\n",
              "      'user': {'firstName': 'TenantKing.com',\n",
              "       'id': '87473404',\n",
              "       'photo': {'prefix': 'https://fastly.4sqi.net/img/user/',\n",
              "        'suffix': '/87473404-HI5DTBTK0HX401CA.png'},\n",
              "       'type': 'page'}}],\n",
              "    'name': 'All tips',\n",
              "    'type': 'others'}]},\n",
              " 'url': 'http://harrysitalian.com',\n",
              " 'verified': False}"
            ]
          },
          "metadata": {
            "tags": []
          },
          "execution_count": 16
        }
      ]
    },
    {
      "cell_type": "markdown",
      "metadata": {
        "id": "kdKyhGd_TEiT",
        "colab_type": "text"
      },
      "source": [
        "**B. Get the venue's overall rating**"
      ]
    },
    {
      "cell_type": "code",
      "metadata": {
        "id": "g7YL6fLUTA7V",
        "colab_type": "code",
        "colab": {
          "base_uri": "https://localhost:8080/",
          "height": 35
        },
        "outputId": "e9451178-d6f7-474b-df2c-5a85b913327a"
      },
      "source": [
        "try:\n",
        "    print(result['response']['venue']['rating'])\n",
        "except:\n",
        "    print('This venue has not been rated yet.')"
      ],
      "execution_count": 17,
      "outputs": [
        {
          "output_type": "stream",
          "text": [
            "6.8\n"
          ],
          "name": "stdout"
        }
      ]
    },
    {
      "cell_type": "code",
      "metadata": {
        "id": "DQKmkndNTJv2",
        "colab_type": "code",
        "colab": {
          "base_uri": "https://localhost:8080/",
          "height": 35
        },
        "outputId": "7521a77a-0432-4d41-e68e-74c2bde4c08c"
      },
      "source": [
        "venue_id = '4f3232e219836c91c7bfde94' # ID of Conca Cucina Italian Restaurant\n",
        "url = 'https://api.foursquare.com/v2/venues/{}?client_id={}&client_secret={}&v={}'.format(venue_id, CLIENT_ID, CLIENT_SECRET, VERSION)\n",
        "\n",
        "result = requests.get(url).json()\n",
        "try:\n",
        "    print(result['response']['venue']['rating'])\n",
        "except:\n",
        "    print('This venue has not been rated yet.')"
      ],
      "execution_count": 18,
      "outputs": [
        {
          "output_type": "stream",
          "text": [
            "This venue has not been rated yet.\n"
          ],
          "name": "stdout"
        }
      ]
    },
    {
      "cell_type": "code",
      "metadata": {
        "id": "gRukdqqyTOHL",
        "colab_type": "code",
        "colab": {
          "base_uri": "https://localhost:8080/",
          "height": 35
        },
        "outputId": "af6c4dda-132d-4d03-fd13-528bd35ac10b"
      },
      "source": [
        "\n",
        "venue_id = '3fd66200f964a520f4e41ee3' # ID of Ecco\n",
        "url = 'https://api.foursquare.com/v2/venues/{}?client_id={}&client_secret={}&v={}'.format(venue_id, CLIENT_ID, CLIENT_SECRET, VERSION)\n",
        "\n",
        "result = requests.get(url).json()\n",
        "try:\n",
        "    print(result['response']['venue']['rating'])\n",
        "except:\n",
        "    print('This venue has not been rated yet.')"
      ],
      "execution_count": 19,
      "outputs": [
        {
          "output_type": "stream",
          "text": [
            "7.2\n"
          ],
          "name": "stdout"
        }
      ]
    },
    {
      "cell_type": "markdown",
      "metadata": {
        "id": "BuSSw1-LTTn1",
        "colab_type": "text"
      },
      "source": [
        "**C. Get the number of tips**"
      ]
    },
    {
      "cell_type": "code",
      "metadata": {
        "id": "mhGAXqkSTQxt",
        "colab_type": "code",
        "colab": {
          "base_uri": "https://localhost:8080/",
          "height": 35
        },
        "outputId": "fd9f5a02-f6d9-4d3b-e805-cc9b1f7a5ff0"
      },
      "source": [
        "result['response']['venue']['tips']['count']"
      ],
      "execution_count": 20,
      "outputs": [
        {
          "output_type": "execute_result",
          "data": {
            "text/plain": [
              "19"
            ]
          },
          "metadata": {
            "tags": []
          },
          "execution_count": 20
        }
      ]
    },
    {
      "cell_type": "markdown",
      "metadata": {
        "id": "M6y41tLeTaKR",
        "colab_type": "text"
      },
      "source": [
        "**D. Get the venue's tips**\n",
        "\n",
        "\n",
        ">https://api.foursquare.com/v2/venues/VENUE_ID/tips?client_id=CLIENT_ID&client_secret=CLIENT_SECRET&v=VERSION&limit=LIMIT\n",
        "\n"
      ]
    },
    {
      "cell_type": "code",
      "metadata": {
        "id": "P3lce5T0TS8z",
        "colab_type": "code",
        "colab": {
          "base_uri": "https://localhost:8080/",
          "height": 419
        },
        "outputId": "e26df0cf-e925-4f80-fc8b-8969f5a88b77"
      },
      "source": [
        "limit = 15 # set limit to be greater than or equal to the total number of tips\n",
        "url = 'https://api.foursquare.com/v2/venues/{}/tips?client_id={}&client_secret={}&v={}&limit={}'.format(venue_id, CLIENT_ID, CLIENT_SECRET, VERSION, limit)\n",
        "\n",
        "results = requests.get(url).json()\n",
        "results"
      ],
      "execution_count": 21,
      "outputs": [
        {
          "output_type": "execute_result",
          "data": {
            "text/plain": [
              "{'meta': {'code': 200, 'requestId': '5f66fd9c63f2da7c6e8069b6'},\n",
              " 'response': {'tips': {'count': 19,\n",
              "   'items': [{'agreeCount': 5,\n",
              "     'authorInteractionType': 'liked',\n",
              "     'canonicalUrl': 'https://foursquare.com/item/5ab1cb46c9a517174651d3fe',\n",
              "     'createdAt': 1521601350,\n",
              "     'disagreeCount': 0,\n",
              "     'id': '5ab1cb46c9a517174651d3fe',\n",
              "     'lang': 'en',\n",
              "     'lastUpvoteTimestamp': 1597593442,\n",
              "     'lastVoteText': 'Upvoted Aug 16',\n",
              "     'likes': {'count': 0, 'groups': []},\n",
              "     'logView': True,\n",
              "     'text': 'A+ Italian food! Trust me on this: my mom’s side of the family is 100% Italian. I was born and bred to know good pasta when I see it, and Ecco is one of my all-time NYC favorites',\n",
              "     'todo': {'count': 0},\n",
              "     'type': 'user',\n",
              "     'user': {'firstName': 'Nick',\n",
              "      'id': '484542633',\n",
              "      'lastName': 'E',\n",
              "      'photo': {'prefix': 'https://fastly.4sqi.net/img/user/',\n",
              "       'suffix': '/484542633_unymNUmw_FdPs3GjXHujmHcYnN4hf8kEPADlOZuIrdcdm97VX3tFqL7fFNMNA_8Gl9NlU1GYg.jpg'}}}]}}}"
            ]
          },
          "metadata": {
            "tags": []
          },
          "execution_count": 21
        }
      ]
    },
    {
      "cell_type": "markdown",
      "metadata": {
        "id": "aSp71gIqTpOY",
        "colab_type": "text"
      },
      "source": [
        "**Get tips and list of associated features**"
      ]
    },
    {
      "cell_type": "code",
      "metadata": {
        "id": "5n0HTiIkTlkk",
        "colab_type": "code",
        "colab": {
          "base_uri": "https://localhost:8080/",
          "height": 55
        },
        "outputId": "a06767ee-7760-4792-d0e5-ad7cff55467c"
      },
      "source": [
        "tips = results['response']['tips']['items']\n",
        "\n",
        "tip = results['response']['tips']['items'][0]\n",
        "tip.keys()"
      ],
      "execution_count": 22,
      "outputs": [
        {
          "output_type": "execute_result",
          "data": {
            "text/plain": [
              "dict_keys(['id', 'createdAt', 'text', 'type', 'canonicalUrl', 'lang', 'likes', 'logView', 'agreeCount', 'disagreeCount', 'lastVoteText', 'lastUpvoteTimestamp', 'todo', 'user', 'authorInteractionType'])"
            ]
          },
          "metadata": {
            "tags": []
          },
          "execution_count": 22
        }
      ]
    },
    {
      "cell_type": "markdown",
      "metadata": {
        "id": "W2IFy3SCTwgj",
        "colab_type": "text"
      },
      "source": [
        "**Format column width and display all tips**"
      ]
    },
    {
      "cell_type": "code",
      "metadata": {
        "id": "5r95i8cbTogc",
        "colab_type": "code",
        "colab": {
          "base_uri": "https://localhost:8080/",
          "height": 505
        },
        "outputId": "36c80d6e-000d-4d91-e4ab-24c2c551ace0"
      },
      "source": [
        "pd.set_option('display.max_colwidth', -1)\n",
        "\n",
        "tips_df = json_normalize(tips) # json normalize tips\n",
        "\n",
        "# columns to keep\n",
        "filtered_columns = ['text', 'agreeCount', 'disagreeCount', 'id', 'user.firstName', 'user.lastName', 'user.gender', 'user.id']\n",
        "tips_filtered = tips_df.loc[:, filtered_columns]\n",
        "\n",
        "# display tips\n",
        "tips_filtered"
      ],
      "execution_count": 23,
      "outputs": [
        {
          "output_type": "stream",
          "text": [
            "/usr/local/lib/python3.6/dist-packages/ipykernel_launcher.py:1: FutureWarning: Passing a negative integer is deprecated in version 1.0 and will not be supported in future version. Instead, use None to not limit the column width.\n",
            "  \"\"\"Entry point for launching an IPython kernel.\n",
            "/usr/local/lib/python3.6/dist-packages/ipykernel_launcher.py:3: FutureWarning: pandas.io.json.json_normalize is deprecated, use pandas.json_normalize instead\n",
            "  This is separate from the ipykernel package so we can avoid doing imports until\n"
          ],
          "name": "stderr"
        },
        {
          "output_type": "error",
          "ename": "KeyError",
          "evalue": "ignored",
          "traceback": [
            "\u001b[0;31m---------------------------------------------------------------------------\u001b[0m",
            "\u001b[0;31mKeyError\u001b[0m                                  Traceback (most recent call last)",
            "\u001b[0;32m<ipython-input-23-fe9c7711676c>\u001b[0m in \u001b[0;36m<module>\u001b[0;34m()\u001b[0m\n\u001b[1;32m      5\u001b[0m \u001b[0;31m# columns to keep\u001b[0m\u001b[0;34m\u001b[0m\u001b[0;34m\u001b[0m\u001b[0;34m\u001b[0m\u001b[0m\n\u001b[1;32m      6\u001b[0m \u001b[0mfiltered_columns\u001b[0m \u001b[0;34m=\u001b[0m \u001b[0;34m[\u001b[0m\u001b[0;34m'text'\u001b[0m\u001b[0;34m,\u001b[0m \u001b[0;34m'agreeCount'\u001b[0m\u001b[0;34m,\u001b[0m \u001b[0;34m'disagreeCount'\u001b[0m\u001b[0;34m,\u001b[0m \u001b[0;34m'id'\u001b[0m\u001b[0;34m,\u001b[0m \u001b[0;34m'user.firstName'\u001b[0m\u001b[0;34m,\u001b[0m \u001b[0;34m'user.lastName'\u001b[0m\u001b[0;34m,\u001b[0m \u001b[0;34m'user.gender'\u001b[0m\u001b[0;34m,\u001b[0m \u001b[0;34m'user.id'\u001b[0m\u001b[0;34m]\u001b[0m\u001b[0;34m\u001b[0m\u001b[0;34m\u001b[0m\u001b[0m\n\u001b[0;32m----> 7\u001b[0;31m \u001b[0mtips_filtered\u001b[0m \u001b[0;34m=\u001b[0m \u001b[0mtips_df\u001b[0m\u001b[0;34m.\u001b[0m\u001b[0mloc\u001b[0m\u001b[0;34m[\u001b[0m\u001b[0;34m:\u001b[0m\u001b[0;34m,\u001b[0m \u001b[0mfiltered_columns\u001b[0m\u001b[0;34m]\u001b[0m\u001b[0;34m\u001b[0m\u001b[0;34m\u001b[0m\u001b[0m\n\u001b[0m\u001b[1;32m      8\u001b[0m \u001b[0;34m\u001b[0m\u001b[0m\n\u001b[1;32m      9\u001b[0m \u001b[0;31m# display tips\u001b[0m\u001b[0;34m\u001b[0m\u001b[0;34m\u001b[0m\u001b[0;34m\u001b[0m\u001b[0m\n",
            "\u001b[0;32m/usr/local/lib/python3.6/dist-packages/pandas/core/indexing.py\u001b[0m in \u001b[0;36m__getitem__\u001b[0;34m(self, key)\u001b[0m\n\u001b[1;32m   1760\u001b[0m                 \u001b[0;32mexcept\u001b[0m \u001b[0;34m(\u001b[0m\u001b[0mKeyError\u001b[0m\u001b[0;34m,\u001b[0m \u001b[0mIndexError\u001b[0m\u001b[0;34m,\u001b[0m \u001b[0mAttributeError\u001b[0m\u001b[0;34m)\u001b[0m\u001b[0;34m:\u001b[0m\u001b[0;34m\u001b[0m\u001b[0;34m\u001b[0m\u001b[0m\n\u001b[1;32m   1761\u001b[0m                     \u001b[0;32mpass\u001b[0m\u001b[0;34m\u001b[0m\u001b[0;34m\u001b[0m\u001b[0m\n\u001b[0;32m-> 1762\u001b[0;31m             \u001b[0;32mreturn\u001b[0m \u001b[0mself\u001b[0m\u001b[0;34m.\u001b[0m\u001b[0m_getitem_tuple\u001b[0m\u001b[0;34m(\u001b[0m\u001b[0mkey\u001b[0m\u001b[0;34m)\u001b[0m\u001b[0;34m\u001b[0m\u001b[0;34m\u001b[0m\u001b[0m\n\u001b[0m\u001b[1;32m   1763\u001b[0m         \u001b[0;32melse\u001b[0m\u001b[0;34m:\u001b[0m\u001b[0;34m\u001b[0m\u001b[0;34m\u001b[0m\u001b[0m\n\u001b[1;32m   1764\u001b[0m             \u001b[0;31m# we by definition only have the 0th axis\u001b[0m\u001b[0;34m\u001b[0m\u001b[0;34m\u001b[0m\u001b[0;34m\u001b[0m\u001b[0m\n",
            "\u001b[0;32m/usr/local/lib/python3.6/dist-packages/pandas/core/indexing.py\u001b[0m in \u001b[0;36m_getitem_tuple\u001b[0;34m(self, tup)\u001b[0m\n\u001b[1;32m   1287\u001b[0m                 \u001b[0;32mcontinue\u001b[0m\u001b[0;34m\u001b[0m\u001b[0;34m\u001b[0m\u001b[0m\n\u001b[1;32m   1288\u001b[0m \u001b[0;34m\u001b[0m\u001b[0m\n\u001b[0;32m-> 1289\u001b[0;31m             \u001b[0mretval\u001b[0m \u001b[0;34m=\u001b[0m \u001b[0mgetattr\u001b[0m\u001b[0;34m(\u001b[0m\u001b[0mretval\u001b[0m\u001b[0;34m,\u001b[0m \u001b[0mself\u001b[0m\u001b[0;34m.\u001b[0m\u001b[0mname\u001b[0m\u001b[0;34m)\u001b[0m\u001b[0;34m.\u001b[0m\u001b[0m_getitem_axis\u001b[0m\u001b[0;34m(\u001b[0m\u001b[0mkey\u001b[0m\u001b[0;34m,\u001b[0m \u001b[0maxis\u001b[0m\u001b[0;34m=\u001b[0m\u001b[0mi\u001b[0m\u001b[0;34m)\u001b[0m\u001b[0;34m\u001b[0m\u001b[0;34m\u001b[0m\u001b[0m\n\u001b[0m\u001b[1;32m   1290\u001b[0m \u001b[0;34m\u001b[0m\u001b[0m\n\u001b[1;32m   1291\u001b[0m         \u001b[0;32mreturn\u001b[0m \u001b[0mretval\u001b[0m\u001b[0;34m\u001b[0m\u001b[0;34m\u001b[0m\u001b[0m\n",
            "\u001b[0;32m/usr/local/lib/python3.6/dist-packages/pandas/core/indexing.py\u001b[0m in \u001b[0;36m_getitem_axis\u001b[0;34m(self, key, axis)\u001b[0m\n\u001b[1;32m   1952\u001b[0m                     \u001b[0;32mraise\u001b[0m \u001b[0mValueError\u001b[0m\u001b[0;34m(\u001b[0m\u001b[0;34m\"Cannot index with multidimensional key\"\u001b[0m\u001b[0;34m)\u001b[0m\u001b[0;34m\u001b[0m\u001b[0;34m\u001b[0m\u001b[0m\n\u001b[1;32m   1953\u001b[0m \u001b[0;34m\u001b[0m\u001b[0m\n\u001b[0;32m-> 1954\u001b[0;31m                 \u001b[0;32mreturn\u001b[0m \u001b[0mself\u001b[0m\u001b[0;34m.\u001b[0m\u001b[0m_getitem_iterable\u001b[0m\u001b[0;34m(\u001b[0m\u001b[0mkey\u001b[0m\u001b[0;34m,\u001b[0m \u001b[0maxis\u001b[0m\u001b[0;34m=\u001b[0m\u001b[0maxis\u001b[0m\u001b[0;34m)\u001b[0m\u001b[0;34m\u001b[0m\u001b[0;34m\u001b[0m\u001b[0m\n\u001b[0m\u001b[1;32m   1955\u001b[0m \u001b[0;34m\u001b[0m\u001b[0m\n\u001b[1;32m   1956\u001b[0m             \u001b[0;31m# nested tuple slicing\u001b[0m\u001b[0;34m\u001b[0m\u001b[0;34m\u001b[0m\u001b[0;34m\u001b[0m\u001b[0m\n",
            "\u001b[0;32m/usr/local/lib/python3.6/dist-packages/pandas/core/indexing.py\u001b[0m in \u001b[0;36m_getitem_iterable\u001b[0;34m(self, key, axis)\u001b[0m\n\u001b[1;32m   1593\u001b[0m         \u001b[0;32melse\u001b[0m\u001b[0;34m:\u001b[0m\u001b[0;34m\u001b[0m\u001b[0;34m\u001b[0m\u001b[0m\n\u001b[1;32m   1594\u001b[0m             \u001b[0;31m# A collection of keys\u001b[0m\u001b[0;34m\u001b[0m\u001b[0;34m\u001b[0m\u001b[0;34m\u001b[0m\u001b[0m\n\u001b[0;32m-> 1595\u001b[0;31m             \u001b[0mkeyarr\u001b[0m\u001b[0;34m,\u001b[0m \u001b[0mindexer\u001b[0m \u001b[0;34m=\u001b[0m \u001b[0mself\u001b[0m\u001b[0;34m.\u001b[0m\u001b[0m_get_listlike_indexer\u001b[0m\u001b[0;34m(\u001b[0m\u001b[0mkey\u001b[0m\u001b[0;34m,\u001b[0m \u001b[0maxis\u001b[0m\u001b[0;34m,\u001b[0m \u001b[0mraise_missing\u001b[0m\u001b[0;34m=\u001b[0m\u001b[0;32mFalse\u001b[0m\u001b[0;34m)\u001b[0m\u001b[0;34m\u001b[0m\u001b[0;34m\u001b[0m\u001b[0m\n\u001b[0m\u001b[1;32m   1596\u001b[0m             return self.obj._reindex_with_indexers(\n\u001b[1;32m   1597\u001b[0m                 \u001b[0;34m{\u001b[0m\u001b[0maxis\u001b[0m\u001b[0;34m:\u001b[0m \u001b[0;34m[\u001b[0m\u001b[0mkeyarr\u001b[0m\u001b[0;34m,\u001b[0m \u001b[0mindexer\u001b[0m\u001b[0;34m]\u001b[0m\u001b[0;34m}\u001b[0m\u001b[0;34m,\u001b[0m \u001b[0mcopy\u001b[0m\u001b[0;34m=\u001b[0m\u001b[0;32mTrue\u001b[0m\u001b[0;34m,\u001b[0m \u001b[0mallow_dups\u001b[0m\u001b[0;34m=\u001b[0m\u001b[0;32mTrue\u001b[0m\u001b[0;34m\u001b[0m\u001b[0;34m\u001b[0m\u001b[0m\n",
            "\u001b[0;32m/usr/local/lib/python3.6/dist-packages/pandas/core/indexing.py\u001b[0m in \u001b[0;36m_get_listlike_indexer\u001b[0;34m(self, key, axis, raise_missing)\u001b[0m\n\u001b[1;32m   1551\u001b[0m \u001b[0;34m\u001b[0m\u001b[0m\n\u001b[1;32m   1552\u001b[0m         self._validate_read_indexer(\n\u001b[0;32m-> 1553\u001b[0;31m             \u001b[0mkeyarr\u001b[0m\u001b[0;34m,\u001b[0m \u001b[0mindexer\u001b[0m\u001b[0;34m,\u001b[0m \u001b[0mo\u001b[0m\u001b[0;34m.\u001b[0m\u001b[0m_get_axis_number\u001b[0m\u001b[0;34m(\u001b[0m\u001b[0maxis\u001b[0m\u001b[0;34m)\u001b[0m\u001b[0;34m,\u001b[0m \u001b[0mraise_missing\u001b[0m\u001b[0;34m=\u001b[0m\u001b[0mraise_missing\u001b[0m\u001b[0;34m\u001b[0m\u001b[0;34m\u001b[0m\u001b[0m\n\u001b[0m\u001b[1;32m   1554\u001b[0m         )\n\u001b[1;32m   1555\u001b[0m         \u001b[0;32mreturn\u001b[0m \u001b[0mkeyarr\u001b[0m\u001b[0;34m,\u001b[0m \u001b[0mindexer\u001b[0m\u001b[0;34m\u001b[0m\u001b[0;34m\u001b[0m\u001b[0m\n",
            "\u001b[0;32m/usr/local/lib/python3.6/dist-packages/pandas/core/indexing.py\u001b[0m in \u001b[0;36m_validate_read_indexer\u001b[0;34m(self, key, indexer, axis, raise_missing)\u001b[0m\n\u001b[1;32m   1653\u001b[0m             \u001b[0;32mif\u001b[0m \u001b[0;32mnot\u001b[0m \u001b[0;34m(\u001b[0m\u001b[0max\u001b[0m\u001b[0;34m.\u001b[0m\u001b[0mis_categorical\u001b[0m\u001b[0;34m(\u001b[0m\u001b[0;34m)\u001b[0m \u001b[0;32mor\u001b[0m \u001b[0max\u001b[0m\u001b[0;34m.\u001b[0m\u001b[0mis_interval\u001b[0m\u001b[0;34m(\u001b[0m\u001b[0;34m)\u001b[0m\u001b[0;34m)\u001b[0m\u001b[0;34m:\u001b[0m\u001b[0;34m\u001b[0m\u001b[0;34m\u001b[0m\u001b[0m\n\u001b[1;32m   1654\u001b[0m                 raise KeyError(\n\u001b[0;32m-> 1655\u001b[0;31m                     \u001b[0;34m\"Passing list-likes to .loc or [] with any missing labels \"\u001b[0m\u001b[0;34m\u001b[0m\u001b[0;34m\u001b[0m\u001b[0m\n\u001b[0m\u001b[1;32m   1656\u001b[0m                     \u001b[0;34m\"is no longer supported, see \"\u001b[0m\u001b[0;34m\u001b[0m\u001b[0;34m\u001b[0m\u001b[0m\n\u001b[1;32m   1657\u001b[0m                     \u001b[0;34m\"https://pandas.pydata.org/pandas-docs/stable/user_guide/indexing.html#deprecate-loc-reindex-listlike\"\u001b[0m  \u001b[0;31m# noqa:E501\u001b[0m\u001b[0;34m\u001b[0m\u001b[0;34m\u001b[0m\u001b[0m\n",
            "\u001b[0;31mKeyError\u001b[0m: 'Passing list-likes to .loc or [] with any missing labels is no longer supported, see https://pandas.pydata.org/pandas-docs/stable/user_guide/indexing.html#deprecate-loc-reindex-listlike'"
          ]
        }
      ]
    },
    {
      "cell_type": "markdown",
      "metadata": {
        "id": "w8_tmL9uT91D",
        "colab_type": "text"
      },
      "source": [
        "#**3. Search a Foursquare User**\n",
        "\n",
        "\n",
        "> https://api.foursquare.com/v2/users/USER_ID?client_id=CLIENT_ID&client_secret=CLIENT_SECRET&v=VERSION\n",
        "\n"
      ]
    },
    {
      "cell_type": "markdown",
      "metadata": {
        "id": "K-cpLl8yT9RJ",
        "colab_type": "text"
      },
      "source": [
        "**Define URL, send GET request and display features associated with user**"
      ]
    },
    {
      "cell_type": "code",
      "metadata": {
        "id": "uwy9ew-5TvMk",
        "colab_type": "code",
        "colab": {
          "base_uri": "https://localhost:8080/",
          "height": 244
        },
        "outputId": "5d4338a9-0dcd-408b-d194-ccec49b3807e"
      },
      "source": [
        "user_id = '484542633' # user ID with most agree counts and complete profile\n",
        "\n",
        "url = 'https://api.foursquare.com/v2/users/{}?client_id={}&client_secret={}&v={}'.format(user_id, CLIENT_ID, CLIENT_SECRET, VERSION) # define URL\n",
        "\n",
        "# send GET request\n",
        "results = requests.get(url).json()\n",
        "user_data = results['response']['user']\n",
        "\n",
        "# display features associated with user\n",
        "user_data.keys()\n"
      ],
      "execution_count": 24,
      "outputs": [
        {
          "output_type": "error",
          "ename": "KeyError",
          "evalue": "ignored",
          "traceback": [
            "\u001b[0;31m---------------------------------------------------------------------------\u001b[0m",
            "\u001b[0;31mKeyError\u001b[0m                                  Traceback (most recent call last)",
            "\u001b[0;32m<ipython-input-24-91224d45fd37>\u001b[0m in \u001b[0;36m<module>\u001b[0;34m()\u001b[0m\n\u001b[1;32m      5\u001b[0m \u001b[0;31m# send GET request\u001b[0m\u001b[0;34m\u001b[0m\u001b[0;34m\u001b[0m\u001b[0;34m\u001b[0m\u001b[0m\n\u001b[1;32m      6\u001b[0m \u001b[0mresults\u001b[0m \u001b[0;34m=\u001b[0m \u001b[0mrequests\u001b[0m\u001b[0;34m.\u001b[0m\u001b[0mget\u001b[0m\u001b[0;34m(\u001b[0m\u001b[0murl\u001b[0m\u001b[0;34m)\u001b[0m\u001b[0;34m.\u001b[0m\u001b[0mjson\u001b[0m\u001b[0;34m(\u001b[0m\u001b[0;34m)\u001b[0m\u001b[0;34m\u001b[0m\u001b[0;34m\u001b[0m\u001b[0m\n\u001b[0;32m----> 7\u001b[0;31m \u001b[0muser_data\u001b[0m \u001b[0;34m=\u001b[0m \u001b[0mresults\u001b[0m\u001b[0;34m[\u001b[0m\u001b[0;34m'response'\u001b[0m\u001b[0;34m]\u001b[0m\u001b[0;34m[\u001b[0m\u001b[0;34m'user'\u001b[0m\u001b[0;34m]\u001b[0m\u001b[0;34m\u001b[0m\u001b[0;34m\u001b[0m\u001b[0m\n\u001b[0m\u001b[1;32m      8\u001b[0m \u001b[0;34m\u001b[0m\u001b[0m\n\u001b[1;32m      9\u001b[0m \u001b[0;31m# display features associated with user\u001b[0m\u001b[0;34m\u001b[0m\u001b[0;34m\u001b[0m\u001b[0;34m\u001b[0m\u001b[0m\n",
            "\u001b[0;31mKeyError\u001b[0m: 'user'"
          ]
        }
      ]
    },
    {
      "cell_type": "code",
      "metadata": {
        "id": "XEyh2d37ULki",
        "colab_type": "code",
        "colab": {
          "base_uri": "https://localhost:8080/",
          "height": 207
        },
        "outputId": "de296fd7-3281-4dac-fac9-9a43c631894a"
      },
      "source": [
        "print('First Name: ' + user_data['firstName'])\n",
        "print('Last Name: ' + user_data['lastName'])\n",
        "print('Home City: ' + user_data['homeCity'])"
      ],
      "execution_count": 26,
      "outputs": [
        {
          "output_type": "error",
          "ename": "NameError",
          "evalue": "ignored",
          "traceback": [
            "\u001b[0;31m---------------------------------------------------------------------------\u001b[0m",
            "\u001b[0;31mNameError\u001b[0m                                 Traceback (most recent call last)",
            "\u001b[0;32m<ipython-input-26-6c3d173b902c>\u001b[0m in \u001b[0;36m<module>\u001b[0;34m()\u001b[0m\n\u001b[0;32m----> 1\u001b[0;31m \u001b[0mprint\u001b[0m\u001b[0;34m(\u001b[0m\u001b[0;34m'First Name: '\u001b[0m \u001b[0;34m+\u001b[0m \u001b[0muser_data\u001b[0m\u001b[0;34m[\u001b[0m\u001b[0;34m'firstName'\u001b[0m\u001b[0;34m]\u001b[0m\u001b[0;34m)\u001b[0m\u001b[0;34m\u001b[0m\u001b[0;34m\u001b[0m\u001b[0m\n\u001b[0m\u001b[1;32m      2\u001b[0m \u001b[0mprint\u001b[0m\u001b[0;34m(\u001b[0m\u001b[0;34m'Last Name: '\u001b[0m \u001b[0;34m+\u001b[0m \u001b[0muser_data\u001b[0m\u001b[0;34m[\u001b[0m\u001b[0;34m'lastName'\u001b[0m\u001b[0;34m]\u001b[0m\u001b[0;34m)\u001b[0m\u001b[0;34m\u001b[0m\u001b[0;34m\u001b[0m\u001b[0m\n\u001b[1;32m      3\u001b[0m \u001b[0mprint\u001b[0m\u001b[0;34m(\u001b[0m\u001b[0;34m'Home City: '\u001b[0m \u001b[0;34m+\u001b[0m \u001b[0muser_data\u001b[0m\u001b[0;34m[\u001b[0m\u001b[0;34m'homeCity'\u001b[0m\u001b[0;34m]\u001b[0m\u001b[0;34m)\u001b[0m\u001b[0;34m\u001b[0m\u001b[0;34m\u001b[0m\u001b[0m\n",
            "\u001b[0;31mNameError\u001b[0m: name 'user_data' is not defined"
          ]
        }
      ]
    },
    {
      "cell_type": "code",
      "metadata": {
        "id": "LdJ4nl0BUNvL",
        "colab_type": "code",
        "colab": {
          "base_uri": "https://localhost:8080/",
          "height": 171
        },
        "outputId": "5ce8cb5c-6e7f-4ae2-dd90-51d90c8d50ee"
      },
      "source": [
        "user_data['tips']"
      ],
      "execution_count": 27,
      "outputs": [
        {
          "output_type": "error",
          "ename": "NameError",
          "evalue": "ignored",
          "traceback": [
            "\u001b[0;31m---------------------------------------------------------------------------\u001b[0m",
            "\u001b[0;31mNameError\u001b[0m                                 Traceback (most recent call last)",
            "\u001b[0;32m<ipython-input-27-6335e7dc938e>\u001b[0m in \u001b[0;36m<module>\u001b[0;34m()\u001b[0m\n\u001b[0;32m----> 1\u001b[0;31m \u001b[0muser_data\u001b[0m\u001b[0;34m[\u001b[0m\u001b[0;34m'tips'\u001b[0m\u001b[0;34m]\u001b[0m\u001b[0;34m\u001b[0m\u001b[0;34m\u001b[0m\u001b[0m\n\u001b[0m",
            "\u001b[0;31mNameError\u001b[0m: name 'user_data' is not defined"
          ]
        }
      ]
    },
    {
      "cell_type": "markdown",
      "metadata": {
        "id": "L8RdgZbfUXWE",
        "colab_type": "text"
      },
      "source": [
        "**Get User's tips**"
      ]
    },
    {
      "cell_type": "code",
      "metadata": {
        "id": "F5LfQuYbUUng",
        "colab_type": "code",
        "colab": {
          "base_uri": "https://localhost:8080/",
          "height": 625
        },
        "outputId": "a40a4dbd-732f-476c-b7f6-a7212deff311"
      },
      "source": [
        "url = 'https://api.foursquare.com/v2/users/{}/tips?client_id={}&client_secret={}&v={}&limit={}'.format(user_id, CLIENT_ID, CLIENT_SECRET, VERSION, limit)\n",
        "\n",
        "# send GET request and get user's tips\n",
        "results = requests.get(url).json()\n",
        "tips = results['response']['tips']['items']\n",
        "\n",
        "# format column width\n",
        "pd.set_option('display.max_colwidth', -1)\n",
        "\n",
        "tips_df = json_normalize(tips)\n",
        "\n",
        "# filter columns\n",
        "filtered_columns = ['text', 'agreeCount', 'disagreeCount', 'id']\n",
        "tips_filtered = tips_df.loc[:, filtered_columns]\n",
        "\n",
        "# display user's tips\n",
        "tips_filtered"
      ],
      "execution_count": 28,
      "outputs": [
        {
          "output_type": "stream",
          "text": [
            "/usr/local/lib/python3.6/dist-packages/ipykernel_launcher.py:8: FutureWarning: Passing a negative integer is deprecated in version 1.0 and will not be supported in future version. Instead, use None to not limit the column width.\n",
            "  \n",
            "/usr/local/lib/python3.6/dist-packages/ipykernel_launcher.py:10: FutureWarning: pandas.io.json.json_normalize is deprecated, use pandas.json_normalize instead\n",
            "  # Remove the CWD from sys.path while we load stuff.\n"
          ],
          "name": "stderr"
        },
        {
          "output_type": "execute_result",
          "data": {
            "text/html": [
              "<div>\n",
              "<style scoped>\n",
              "    .dataframe tbody tr th:only-of-type {\n",
              "        vertical-align: middle;\n",
              "    }\n",
              "\n",
              "    .dataframe tbody tr th {\n",
              "        vertical-align: top;\n",
              "    }\n",
              "\n",
              "    .dataframe thead th {\n",
              "        text-align: right;\n",
              "    }\n",
              "</style>\n",
              "<table border=\"1\" class=\"dataframe\">\n",
              "  <thead>\n",
              "    <tr style=\"text-align: right;\">\n",
              "      <th></th>\n",
              "      <th>text</th>\n",
              "      <th>agreeCount</th>\n",
              "      <th>disagreeCount</th>\n",
              "      <th>id</th>\n",
              "    </tr>\n",
              "  </thead>\n",
              "  <tbody>\n",
              "    <tr>\n",
              "      <th>0</th>\n",
              "      <td>They serve coffee!!!!!!</td>\n",
              "      <td>1</td>\n",
              "      <td>0</td>\n",
              "      <td>5accc98c0313204c9d7ec157</td>\n",
              "    </tr>\n",
              "    <tr>\n",
              "      <th>1</th>\n",
              "      <td>Quick, cheap lunch that tastes good! Way shorter line than Chipotle, too.</td>\n",
              "      <td>2</td>\n",
              "      <td>0</td>\n",
              "      <td>5acbec70a0215b732e264fe8</td>\n",
              "    </tr>\n",
              "    <tr>\n",
              "      <th>2</th>\n",
              "      <td>You’re not a real New Yorker until you’ve shame-ordered Insomnia Cookies for delivery at 3am</td>\n",
              "      <td>1</td>\n",
              "      <td>0</td>\n",
              "      <td>5acbbd4eb1538e45373b07f5</td>\n",
              "    </tr>\n",
              "    <tr>\n",
              "      <th>3</th>\n",
              "      <td>Good for you yet still tasty! Clean green protein is my go-to after I hit the gym 💪</td>\n",
              "      <td>2</td>\n",
              "      <td>0</td>\n",
              "      <td>5acbbcda01235808d5d6dc75</td>\n",
              "    </tr>\n",
              "    <tr>\n",
              "      <th>4</th>\n",
              "      <td>Burger game strong 💪</td>\n",
              "      <td>1</td>\n",
              "      <td>0</td>\n",
              "      <td>5ab575fb6bdee65f759da8c1</td>\n",
              "    </tr>\n",
              "    <tr>\n",
              "      <th>5</th>\n",
              "      <td>Great burgers &amp; fries! Also, this place is exactly what it’s like when you go to a bar in the Southwest. Source: I’m from Arizona.</td>\n",
              "      <td>2</td>\n",
              "      <td>0</td>\n",
              "      <td>5ab5575d73fe2516ad8f363b</td>\n",
              "    </tr>\n",
              "    <tr>\n",
              "      <th>6</th>\n",
              "      <td>Açaí bowl + peanut butter + whey protein = 💪💪💪</td>\n",
              "      <td>1</td>\n",
              "      <td>0</td>\n",
              "      <td>5ab42db53c858d64af2688a4</td>\n",
              "    </tr>\n",
              "    <tr>\n",
              "      <th>7</th>\n",
              "      <td>Highly underrated and way less crowded than Central Park!</td>\n",
              "      <td>3</td>\n",
              "      <td>0</td>\n",
              "      <td>5ab42c396f706a29f53ad1a8</td>\n",
              "    </tr>\n",
              "    <tr>\n",
              "      <th>8</th>\n",
              "      <td>Get the açaí bowl with peanut butter after your work out and thank me later 👌</td>\n",
              "      <td>1</td>\n",
              "      <td>0</td>\n",
              "      <td>5ab42aca2a7ab6333652b266</td>\n",
              "    </tr>\n",
              "    <tr>\n",
              "      <th>9</th>\n",
              "      <td>When you want a burger, this should be the first thing that comes to mind. A+!</td>\n",
              "      <td>1</td>\n",
              "      <td>0</td>\n",
              "      <td>5ab42a28da5e5617d18e3a6a</td>\n",
              "    </tr>\n",
              "    <tr>\n",
              "      <th>10</th>\n",
              "      <td>Way less crowded than Central Park! People who live in the neighborhood rave about Carl Schurz Park.</td>\n",
              "      <td>3</td>\n",
              "      <td>0</td>\n",
              "      <td>5ab429db1ffe971b060083f5</td>\n",
              "    </tr>\n",
              "    <tr>\n",
              "      <th>11</th>\n",
              "      <td>The best Mexican food in the Murray Hill / Kips Bay area!</td>\n",
              "      <td>1</td>\n",
              "      <td>0</td>\n",
              "      <td>5ab3f53f8496ca57542d5549</td>\n",
              "    </tr>\n",
              "    <tr>\n",
              "      <th>12</th>\n",
              "      <td>Best coffee shop in the neighborhood!</td>\n",
              "      <td>1</td>\n",
              "      <td>0</td>\n",
              "      <td>5ab3f428da5e5617d17d1475</td>\n",
              "    </tr>\n",
              "    <tr>\n",
              "      <th>13</th>\n",
              "      <td>When there’s nice weather, the rooftop at Tonic East is the best place to watch the game. Perfect for March Madness &amp; NBA finals!</td>\n",
              "      <td>2</td>\n",
              "      <td>0</td>\n",
              "      <td>5ab3f3fedd70c572de886c9d</td>\n",
              "    </tr>\n",
              "    <tr>\n",
              "      <th>14</th>\n",
              "      <td>Rib game level 💯</td>\n",
              "      <td>1</td>\n",
              "      <td>0</td>\n",
              "      <td>5ab3f372da2e00604ca53924</td>\n",
              "    </tr>\n",
              "  </tbody>\n",
              "</table>\n",
              "</div>"
            ],
            "text/plain": [
              "                                                                                                                                  text  ...                        id\n",
              "0   They serve coffee!!!!!!                                                                                                             ...  5accc98c0313204c9d7ec157\n",
              "1   Quick, cheap lunch that tastes good! Way shorter line than Chipotle, too.                                                           ...  5acbec70a0215b732e264fe8\n",
              "2   You’re not a real New Yorker until you’ve shame-ordered Insomnia Cookies for delivery at 3am                                        ...  5acbbd4eb1538e45373b07f5\n",
              "3   Good for you yet still tasty! Clean green protein is my go-to after I hit the gym 💪                                                 ...  5acbbcda01235808d5d6dc75\n",
              "4   Burger game strong 💪                                                                                                                ...  5ab575fb6bdee65f759da8c1\n",
              "5   Great burgers & fries! Also, this place is exactly what it’s like when you go to a bar in the Southwest. Source: I’m from Arizona.  ...  5ab5575d73fe2516ad8f363b\n",
              "6   Açaí bowl + peanut butter + whey protein = 💪💪💪                                                                                      ...  5ab42db53c858d64af2688a4\n",
              "7   Highly underrated and way less crowded than Central Park!                                                                           ...  5ab42c396f706a29f53ad1a8\n",
              "8   Get the açaí bowl with peanut butter after your work out and thank me later 👌                                                       ...  5ab42aca2a7ab6333652b266\n",
              "9   When you want a burger, this should be the first thing that comes to mind. A+!                                                      ...  5ab42a28da5e5617d18e3a6a\n",
              "10  Way less crowded than Central Park! People who live in the neighborhood rave about Carl Schurz Park.                                ...  5ab429db1ffe971b060083f5\n",
              "11  The best Mexican food in the Murray Hill / Kips Bay area!                                                                           ...  5ab3f53f8496ca57542d5549\n",
              "12  Best coffee shop in the neighborhood!                                                                                               ...  5ab3f428da5e5617d17d1475\n",
              "13  When there’s nice weather, the rooftop at Tonic East is the best place to watch the game. Perfect for March Madness & NBA finals!   ...  5ab3f3fedd70c572de886c9d\n",
              "14  Rib game level 💯                                                                                                                    ...  5ab3f372da2e00604ca53924\n",
              "\n",
              "[15 rows x 4 columns]"
            ]
          },
          "metadata": {
            "tags": []
          },
          "execution_count": 28
        }
      ]
    },
    {
      "cell_type": "code",
      "metadata": {
        "id": "RSq3pqcKUbv9",
        "colab_type": "code",
        "colab": {
          "base_uri": "https://localhost:8080/",
          "height": 74
        },
        "outputId": "2bd890dd-f097-464a-be27-2db2e2eae9c9"
      },
      "source": [
        "tip_id = '5ab5575d73fe2516ad8f363b' # tip id\n",
        "\n",
        "# define URL\n",
        "url = 'http://api.foursquare.com/v2/tips/{}?client_id={}&client_secret={}&v={}'.format(tip_id, CLIENT_ID, CLIENT_SECRET, VERSION)\n",
        "\n",
        "# send GET Request and examine results\n",
        "result = requests.get(url).json()\n",
        "print(result['response']['tip']['venue']['name'])\n",
        "print(result['response']['tip']['venue']['location'])"
      ],
      "execution_count": 29,
      "outputs": [
        {
          "output_type": "stream",
          "text": [
            "Cowgirl\n",
            "{'address': '519 Hudson St', 'crossStreet': 'at W 10th St', 'lat': 40.73373338282062, 'lng': -74.0062998849649, 'labeledLatLngs': [{'label': 'display', 'lat': 40.73373338282062, 'lng': -74.0062998849649}], 'postalCode': '10014', 'cc': 'US', 'city': 'New York', 'state': 'NY', 'country': 'United States', 'formattedAddress': ['519 Hudson St (at W 10th St)', 'New York, NY 10014', 'United States']}\n"
          ],
          "name": "stdout"
        }
      ]
    },
    {
      "cell_type": "markdown",
      "metadata": {
        "id": "NLzJs-45UrB7",
        "colab_type": "text"
      },
      "source": [
        "**Get User's friends**"
      ]
    },
    {
      "cell_type": "code",
      "metadata": {
        "id": "DmOFUGOxUn1F",
        "colab_type": "code",
        "colab": {
          "base_uri": "https://localhost:8080/",
          "height": 207
        },
        "outputId": "ff4bdff1-4fc6-4790-e97f-d02ce489d387"
      },
      "source": [
        "\n",
        "user_friends = json_normalize(user_data['friends']['groups'][0]['items'])\n",
        "user_friends"
      ],
      "execution_count": 30,
      "outputs": [
        {
          "output_type": "error",
          "ename": "NameError",
          "evalue": "ignored",
          "traceback": [
            "\u001b[0;31m---------------------------------------------------------------------------\u001b[0m",
            "\u001b[0;31mNameError\u001b[0m                                 Traceback (most recent call last)",
            "\u001b[0;32m<ipython-input-30-f7141eefe31a>\u001b[0m in \u001b[0;36m<module>\u001b[0;34m()\u001b[0m\n\u001b[1;32m      1\u001b[0m \u001b[0;34m\u001b[0m\u001b[0m\n\u001b[0;32m----> 2\u001b[0;31m \u001b[0muser_friends\u001b[0m \u001b[0;34m=\u001b[0m \u001b[0mjson_normalize\u001b[0m\u001b[0;34m(\u001b[0m\u001b[0muser_data\u001b[0m\u001b[0;34m[\u001b[0m\u001b[0;34m'friends'\u001b[0m\u001b[0;34m]\u001b[0m\u001b[0;34m[\u001b[0m\u001b[0;34m'groups'\u001b[0m\u001b[0;34m]\u001b[0m\u001b[0;34m[\u001b[0m\u001b[0;36m0\u001b[0m\u001b[0;34m]\u001b[0m\u001b[0;34m[\u001b[0m\u001b[0;34m'items'\u001b[0m\u001b[0;34m]\u001b[0m\u001b[0;34m)\u001b[0m\u001b[0;34m\u001b[0m\u001b[0;34m\u001b[0m\u001b[0m\n\u001b[0m\u001b[1;32m      3\u001b[0m \u001b[0muser_friends\u001b[0m\u001b[0;34m\u001b[0m\u001b[0;34m\u001b[0m\u001b[0m\n",
            "\u001b[0;31mNameError\u001b[0m: name 'user_data' is not defined"
          ]
        }
      ]
    },
    {
      "cell_type": "markdown",
      "metadata": {
        "id": "MZOrim48UwV6",
        "colab_type": "text"
      },
      "source": [
        "**Retrieve the User's Profile Image**"
      ]
    },
    {
      "cell_type": "code",
      "metadata": {
        "id": "Y8Yo0xH8Utu9",
        "colab_type": "code",
        "colab": {
          "base_uri": "https://localhost:8080/",
          "height": 171
        },
        "outputId": "1879c37c-6909-4044-e1e6-a89d72b9072c"
      },
      "source": [
        "user_data"
      ],
      "execution_count": 32,
      "outputs": [
        {
          "output_type": "error",
          "ename": "NameError",
          "evalue": "ignored",
          "traceback": [
            "\u001b[0;31m---------------------------------------------------------------------------\u001b[0m",
            "\u001b[0;31mNameError\u001b[0m                                 Traceback (most recent call last)",
            "\u001b[0;32m<ipython-input-32-b61f3cd9c2fd>\u001b[0m in \u001b[0;36m<module>\u001b[0;34m()\u001b[0m\n\u001b[0;32m----> 1\u001b[0;31m \u001b[0muser_data\u001b[0m\u001b[0;34m\u001b[0m\u001b[0;34m\u001b[0m\u001b[0m\n\u001b[0m",
            "\u001b[0;31mNameError\u001b[0m: name 'user_data' is not defined"
          ]
        }
      ]
    },
    {
      "cell_type": "code",
      "metadata": {
        "id": "sWkiDgKWUvc0",
        "colab_type": "code",
        "colab": {
          "base_uri": "https://localhost:8080/",
          "height": 36
        },
        "outputId": "be0c2ebc-5f44-495c-9005-ee935cc0f7ee"
      },
      "source": [
        "# 1. grab prefix of photo\n",
        "# 2. grab suffix of photo\n",
        "# 3. concatenate them using the image size  \n",
        "Image(url='https://igx.4sqi.net/img/user/300x300/484542633_mK2Yum7T_7Tn9fWpndidJsmw2Hof_6T5vJBKCHPLMK5OL-U5ZiJGj51iwBstcpDLYa3Zvhvis.jpg')"
      ],
      "execution_count": 33,
      "outputs": [
        {
          "output_type": "execute_result",
          "data": {
            "text/html": [
              "<img src=\"https://igx.4sqi.net/img/user/300x300/484542633_mK2Yum7T_7Tn9fWpndidJsmw2Hof_6T5vJBKCHPLMK5OL-U5ZiJGj51iwBstcpDLYa3Zvhvis.jpg\"/>"
            ],
            "text/plain": [
              "<IPython.core.display.Image object>"
            ]
          },
          "metadata": {
            "tags": []
          },
          "execution_count": 33
        }
      ]
    },
    {
      "cell_type": "markdown",
      "metadata": {
        "id": "uh50sFBuVJQR",
        "colab_type": "text"
      },
      "source": [
        "#**5. Explore Trending Venues**\n",
        "\n",
        "\n",
        "> https://api.foursquare.com/v2/venues/trending?client_id=CLIENT_ID&client_secret=CLIENT_SECRET&ll=LATITUDE,LONGITUDE&v=VERSION\n",
        "\n",
        "\n",
        "\n"
      ]
    },
    {
      "cell_type": "markdown",
      "metadata": {
        "id": "3OIF9M3RVQ6k",
        "colab_type": "text"
      },
      "source": [
        "**Now, instead of simply exploring the area around Ecco, you are interested in knowing the venues that are trending at the time you are done with your lunch, meaning the places with the highest foot traffic. So let's do that and get the trending venues around Ecco.**"
      ]
    },
    {
      "cell_type": "code",
      "metadata": {
        "id": "kD1uGp_PU4om",
        "colab_type": "code",
        "colab": {
          "base_uri": "https://localhost:8080/",
          "height": 10728
        },
        "outputId": "bc44d511-6b44-4e66-dfee-dca2ed08bfbe"
      },
      "source": [
        "# define URL\n",
        "url = 'https://api.foursquare.com/v2/venues/trending?client_id={}&client_secret={}&ll={},{}&v={}'.format(CLIENT_ID, CLIENT_SECRET, latitude, longitude, VERSION)\n",
        "\n",
        "# send GET request and get trending venues\n",
        "results = requests.get(url).json()\n",
        "results"
      ],
      "execution_count": 34,
      "outputs": [
        {
          "output_type": "execute_result",
          "data": {
            "text/plain": [
              "{'meta': {'code': 200, 'requestId': '5f66ff619b40ad19fe724637'},\n",
              " 'response': {'venues': [{'categories': [{'icon': {'prefix': 'https://ss3.4sqi.net/img/categories_v2/shops/flowershop_',\n",
              "       'suffix': '.png'},\n",
              "      'id': '4bf58dd8d48988d11b951735',\n",
              "      'name': 'Flower Shop',\n",
              "      'pluralName': 'Flower Shops',\n",
              "      'primary': True,\n",
              "      'shortName': 'Flower Shop'}],\n",
              "    'id': '52753553498e60add54f2434',\n",
              "    'location': {'address': 'Fulton St',\n",
              "     'cc': 'US',\n",
              "     'city': 'New York',\n",
              "     'country': 'United States',\n",
              "     'distance': 827,\n",
              "     'formattedAddress': ['Fulton St', 'New York, NY', 'United States'],\n",
              "     'labeledLatLngs': [{'label': 'display',\n",
              "       'lat': 40.71278797046345,\n",
              "       'lng': -74.00595252126766}],\n",
              "     'lat': 40.71278797046345,\n",
              "     'lng': -74.00595252126766,\n",
              "     'state': 'NY'},\n",
              "    'name': 'Garden Of Eden'},\n",
              "   {'categories': [{'icon': {'prefix': 'https://ss3.4sqi.net/img/categories_v2/food/icecream_',\n",
              "       'suffix': '.png'},\n",
              "      'id': '4bf58dd8d48988d1c9941735',\n",
              "      'name': 'Ice Cream Shop',\n",
              "      'pluralName': 'Ice Cream Shops',\n",
              "      'primary': True,\n",
              "      'shortName': 'Ice Cream'}],\n",
              "    'id': '5bbd1d34c21cb1002b68b8f3',\n",
              "    'location': {'address': '490 Laguardia Pl',\n",
              "     'cc': 'US',\n",
              "     'city': 'New York',\n",
              "     'country': 'United States',\n",
              "     'distance': 1875,\n",
              "     'formattedAddress': ['490 Laguardia Pl',\n",
              "      'New York, NY 10012',\n",
              "      'United States'],\n",
              "     'labeledLatLngs': [{'label': 'display',\n",
              "       'lat': 40.7270567382626,\n",
              "       'lng': -73.99986366383841},\n",
              "      {'label': 'entrance', 'lat': 40.727214, 'lng': -73.999845}],\n",
              "     'lat': 40.7270567382626,\n",
              "     'lng': -73.99986366383841,\n",
              "     'postalCode': '10012',\n",
              "     'state': 'NY'},\n",
              "    'name': 'Morgenstern’s Finest Ice Cream'},\n",
              "   {'categories': [{'icon': {'prefix': 'https://ss3.4sqi.net/img/categories_v2/food/default_',\n",
              "       'suffix': '.png'},\n",
              "      'id': '4bf58dd8d48988d1c4941735',\n",
              "      'name': 'Restaurant',\n",
              "      'pluralName': 'Restaurants',\n",
              "      'primary': True,\n",
              "      'shortName': 'Restaurant'}],\n",
              "    'id': '5d6172806b3f4300086e3bbc',\n",
              "    'location': {'address': '89 South St',\n",
              "     'cc': 'US',\n",
              "     'city': 'New York',\n",
              "     'country': 'United States',\n",
              "     'crossStreet': 'Pier 17',\n",
              "     'distance': 1551,\n",
              "     'formattedAddress': ['89 South St (Pier 17)',\n",
              "      'New York, NY 10038',\n",
              "      'United States'],\n",
              "     'labeledLatLngs': [{'label': 'display',\n",
              "       'lat': 40.705778,\n",
              "       'lng': -74.001506}],\n",
              "     'lat': 40.705778,\n",
              "     'lng': -74.001506,\n",
              "     'postalCode': '10038',\n",
              "     'state': 'NY'},\n",
              "    'name': 'Malibu Farm'},\n",
              "   {'categories': [{'icon': {'prefix': 'https://ss3.4sqi.net/img/categories_v2/food/italian_',\n",
              "       'suffix': '.png'},\n",
              "      'id': '4bf58dd8d48988d110941735',\n",
              "      'name': 'Italian Restaurant',\n",
              "      'pluralName': 'Italian Restaurants',\n",
              "      'primary': True,\n",
              "      'shortName': 'Italian'}],\n",
              "    'id': '504b2a9ee4b006c435a465d3',\n",
              "    'location': {'address': '181 Thompson St',\n",
              "     'cc': 'US',\n",
              "     'city': 'New York',\n",
              "     'country': 'United States',\n",
              "     'crossStreet': 'btwn Bleecker & W Houston St',\n",
              "     'distance': 1929,\n",
              "     'formattedAddress': ['181 Thompson St (btwn Bleecker & W Houston St)',\n",
              "      'New York, NY 10012',\n",
              "      'United States'],\n",
              "     'labeledLatLngs': [{'label': 'display',\n",
              "       'lat': 40.72790327156426,\n",
              "       'lng': -74.00013635911864},\n",
              "      {'label': 'entrance', 'lat': 40.727988, 'lng': -74.000154}],\n",
              "     'lat': 40.72790327156426,\n",
              "     'lng': -74.00013635911864,\n",
              "     'postalCode': '10012',\n",
              "     'state': 'NY'},\n",
              "    'name': 'Carbone',\n",
              "    'venuePage': {'id': '108533644'}},\n",
              "   {'categories': [{'icon': {'prefix': 'https://ss3.4sqi.net/img/categories_v2/food/default_',\n",
              "       'suffix': '.png'},\n",
              "      'id': '4bf58dd8d48988d1c4941735',\n",
              "      'name': 'Restaurant',\n",
              "      'pluralName': 'Restaurants',\n",
              "      'primary': True,\n",
              "      'shortName': 'Restaurant'}],\n",
              "    'delivery': {'id': '304655',\n",
              "     'provider': {'icon': {'name': '/delivery_provider_seamless_20180129.png',\n",
              "       'prefix': 'https://fastly.4sqi.net/img/general/cap/',\n",
              "       'sizes': [40, 50]},\n",
              "      'name': 'seamless'},\n",
              "     'url': 'https://www.seamless.com/menu/pera-soho-54-thompson-street-new-york/304655?affiliate=1131&utm_source=foursquare-affiliate-network&utm_medium=affiliate&utm_campaign=1131&utm_content=304655'},\n",
              "    'id': '4edec6e40e01ed773a8ddf4e',\n",
              "    'location': {'address': '54 Thompson St',\n",
              "     'cc': 'US',\n",
              "     'city': 'New York',\n",
              "     'country': 'United States',\n",
              "     'crossStreet': 'at Broome St',\n",
              "     'distance': 1410,\n",
              "     'formattedAddress': ['54 Thompson St (at Broome St)',\n",
              "      'New York, NY 10012',\n",
              "      'United States'],\n",
              "     'labeledLatLngs': [{'label': 'display',\n",
              "       'lat': 40.7238167,\n",
              "       'lng': -74.0033792}],\n",
              "     'lat': 40.7238167,\n",
              "     'lng': -74.0033792,\n",
              "     'postalCode': '10012',\n",
              "     'state': 'NY'},\n",
              "    'name': 'Pera Soho'},\n",
              "   {'categories': [{'icon': {'prefix': 'https://ss3.4sqi.net/img/categories_v2/food/diner_',\n",
              "       'suffix': '.png'},\n",
              "      'id': '4bf58dd8d48988d147941735',\n",
              "      'name': 'Diner',\n",
              "      'pluralName': 'Diners',\n",
              "      'primary': True,\n",
              "      'shortName': 'Diner'}],\n",
              "    'delivery': {'id': '1137284',\n",
              "     'provider': {'icon': {'name': '/delivery_provider_seamless_20180129.png',\n",
              "       'prefix': 'https://fastly.4sqi.net/img/general/cap/',\n",
              "       'sizes': [40, 50]},\n",
              "      'name': 'seamless'},\n",
              "     'url': 'https://www.seamless.com/menu/golden-diner-123-madison-st-new-york/1137284?affiliate=1131&utm_source=foursquare-affiliate-network&utm_medium=affiliate&utm_campaign=1131&utm_content=1137284'},\n",
              "    'id': '5b9686e7d807ee002c498f8d',\n",
              "    'location': {'address': '123 Madison St',\n",
              "     'cc': 'US',\n",
              "     'city': 'New York',\n",
              "     'country': 'United States',\n",
              "     'crossStreet': 'at Market St',\n",
              "     'distance': 1804,\n",
              "     'formattedAddress': ['123 Madison St (at Market St)',\n",
              "      'New York, NY 10002',\n",
              "      'United States'],\n",
              "     'labeledLatLngs': [{'label': 'display',\n",
              "       'lat': 40.71245135327847,\n",
              "       'lng': -73.99421274662018},\n",
              "      {'label': 'entrance', 'lat': 40.712415, 'lng': -73.994114}],\n",
              "     'lat': 40.71245135327847,\n",
              "     'lng': -73.99421274662018,\n",
              "     'postalCode': '10002',\n",
              "     'state': 'NY'},\n",
              "    'name': 'Golden Diner'},\n",
              "   {'categories': [{'icon': {'prefix': 'https://ss3.4sqi.net/img/categories_v2/food/japanese_',\n",
              "       'suffix': '.png'},\n",
              "      'id': '4bf58dd8d48988d111941735',\n",
              "      'name': 'Japanese Restaurant',\n",
              "      'pluralName': 'Japanese Restaurants',\n",
              "      'primary': True,\n",
              "      'shortName': 'Japanese'}],\n",
              "    'id': '5f375ed976cccc26893db65a',\n",
              "    'location': {'address': '40 Kenmare St',\n",
              "     'cc': 'US',\n",
              "     'city': 'New York',\n",
              "     'country': 'United States',\n",
              "     'distance': 1801,\n",
              "     'formattedAddress': ['40 Kenmare St',\n",
              "      'New York, NY 10012',\n",
              "      'United States'],\n",
              "     'labeledLatLngs': [{'label': 'display',\n",
              "       'lat': 40.720581,\n",
              "       'lng': -73.995314}],\n",
              "     'lat': 40.720581,\n",
              "     'lng': -73.995314,\n",
              "     'postalCode': '10012',\n",
              "     'state': 'NY'},\n",
              "    'name': 'Kimika'},\n",
              "   {'categories': [{'icon': {'prefix': 'https://ss3.4sqi.net/img/categories_v2/food/thai_',\n",
              "       'suffix': '.png'},\n",
              "      'id': '4bf58dd8d48988d149941735',\n",
              "      'name': 'Thai Restaurant',\n",
              "      'pluralName': 'Thai Restaurants',\n",
              "      'primary': True,\n",
              "      'shortName': 'Thai'}],\n",
              "    'delivery': {'id': '2034349',\n",
              "     'provider': {'icon': {'name': '/delivery_provider_seamless_20180129.png',\n",
              "       'prefix': 'https://fastly.4sqi.net/img/general/cap/',\n",
              "       'sizes': [40, 50]},\n",
              "      'name': 'seamless'},\n",
              "     'url': 'https://www.seamless.com/menu/thai-diner-186-mott-st-new-york/2034349?affiliate=1131&utm_source=foursquare-affiliate-network&utm_medium=affiliate&utm_campaign=1131&utm_content=2034349'},\n",
              "    'id': '5e46e2ec5791a10008c55728',\n",
              "    'location': {'address': '186 Mott St',\n",
              "     'cc': 'US',\n",
              "     'city': 'New York',\n",
              "     'country': 'United States',\n",
              "     'crossStreet': 'at Kenmare',\n",
              "     'distance': 1782,\n",
              "     'formattedAddress': ['186 Mott St (at Kenmare)',\n",
              "      'New York, NY 10012',\n",
              "      'United States'],\n",
              "     'labeledLatLngs': [{'label': 'display',\n",
              "       'lat': 40.720739,\n",
              "       'lng': -73.995631}],\n",
              "     'lat': 40.720739,\n",
              "     'lng': -73.995631,\n",
              "     'postalCode': '10012',\n",
              "     'state': 'NY'},\n",
              "    'name': 'Thai Diner',\n",
              "    'venuePage': {'id': '583985560'}},\n",
              "   {'categories': [{'icon': {'prefix': 'https://ss3.4sqi.net/img/categories_v2/nightlife/beergarden_',\n",
              "       'suffix': '.png'},\n",
              "      'id': '4bf58dd8d48988d117941735',\n",
              "      'name': 'Beer Garden',\n",
              "      'pluralName': 'Beer Gardens',\n",
              "      'primary': True,\n",
              "      'shortName': 'Beer Garden'}],\n",
              "    'delivery': {'id': '1610917',\n",
              "     'provider': {'icon': {'name': '/delivery_provider_grubhub_20180129.png',\n",
              "       'prefix': 'https://fastly.4sqi.net/img/general/cap/',\n",
              "       'sizes': [40, 50]},\n",
              "      'name': 'grubhub'},\n",
              "     'url': 'https://www.grubhub.com/restaurant/lutze-eats-15-2nd-street-jersey-city/1610917?affiliate=1131&utm_source=foursquare-affiliate-network&utm_medium=affiliate&utm_campaign=1131&utm_content=1610917'},\n",
              "    'id': '590b9a68e96d0c61dede01da',\n",
              "    'location': {'address': '15 Second St',\n",
              "     'cc': 'US',\n",
              "     'city': 'Jersey City',\n",
              "     'country': 'United States',\n",
              "     'distance': 1549,\n",
              "     'formattedAddress': ['15 Second St',\n",
              "      'Jersey City, NJ 07302',\n",
              "      'United States'],\n",
              "     'labeledLatLngs': [{'label': 'display',\n",
              "       'lat': 40.720539930912,\n",
              "       'lng': -74.03216144868715}],\n",
              "     'lat': 40.720539930912,\n",
              "     'lng': -74.03216144868715,\n",
              "     'postalCode': '07302',\n",
              "     'state': 'NJ'},\n",
              "    'name': 'Lutze Biergarten'},\n",
              "   {'categories': [{'icon': {'prefix': 'https://ss3.4sqi.net/img/categories_v2/food/winery_',\n",
              "       'suffix': '.png'},\n",
              "      'id': '4bf58dd8d48988d123941735',\n",
              "      'name': 'Wine Bar',\n",
              "      'pluralName': 'Wine Bars',\n",
              "      'primary': True,\n",
              "      'shortName': 'Wine Bar'}],\n",
              "    'delivery': {'id': '2045800',\n",
              "     'provider': {'icon': {'name': '/delivery_provider_seamless_20180129.png',\n",
              "       'prefix': 'https://fastly.4sqi.net/img/general/cap/',\n",
              "       'sizes': [40, 50]},\n",
              "      'name': 'seamless'},\n",
              "     'url': 'https://www.seamless.com/menu/city-vineyard-233-west-st-new-york/2045800?affiliate=1131&utm_source=foursquare-affiliate-network&utm_medium=affiliate&utm_campaign=1131&utm_content=2045800'},\n",
              "    'id': '5748d802498eccc4228c7fd1',\n",
              "    'location': {'address': '233 West St',\n",
              "     'cc': 'US',\n",
              "     'city': 'New York',\n",
              "     'country': 'United States',\n",
              "     'distance': 723,\n",
              "     'formattedAddress': ['233 West St',\n",
              "      'New York, NY 10013',\n",
              "      'United States'],\n",
              "     'labeledLatLngs': [{'label': 'display',\n",
              "       'lat': 40.72119308612802,\n",
              "       'lng': -74.01292115449905},\n",
              "      {'label': 'entrance', 'lat': 40.721296, 'lng': -74.012294}],\n",
              "     'lat': 40.72119308612802,\n",
              "     'lng': -74.01292115449905,\n",
              "     'postalCode': '10013',\n",
              "     'state': 'NY'},\n",
              "    'name': 'City Vineyard'},\n",
              "   {'categories': [{'icon': {'prefix': 'https://ss3.4sqi.net/img/categories_v2/arts_entertainment/musicvenue_',\n",
              "       'suffix': '.png'},\n",
              "      'id': '4bf58dd8d48988d1e5931735',\n",
              "      'name': 'Music Venue',\n",
              "      'pluralName': 'Music Venues',\n",
              "      'primary': True,\n",
              "      'shortName': 'Music Venue'}],\n",
              "    'id': '5b4fc2b467af3a002c9ab00f',\n",
              "    'location': {'address': '89 South St',\n",
              "     'cc': 'US',\n",
              "     'city': 'New York',\n",
              "     'country': 'United States',\n",
              "     'distance': 1568,\n",
              "     'formattedAddress': ['89 South St',\n",
              "      'New York, NY 10038',\n",
              "      'United States'],\n",
              "     'labeledLatLngs': [{'label': 'display',\n",
              "       'lat': 40.70546283217086,\n",
              "       'lng': -74.00159777553358}],\n",
              "     'lat': 40.70546283217086,\n",
              "     'lng': -74.00159777553358,\n",
              "     'postalCode': '10038',\n",
              "     'state': 'NY'},\n",
              "    'name': 'The Rooftop @ Pier 17'},\n",
              "   {'categories': [{'icon': {'prefix': 'https://ss3.4sqi.net/img/categories_v2/food/bakery_',\n",
              "       'suffix': '.png'},\n",
              "      'id': '4bf58dd8d48988d16a941735',\n",
              "      'name': 'Bakery',\n",
              "      'pluralName': 'Bakeries',\n",
              "      'primary': True,\n",
              "      'shortName': 'Bakery'}],\n",
              "    'id': '4eb13d68e5e8c0f5bd2fd983',\n",
              "    'location': {'address': '189 Spring St',\n",
              "     'cc': 'US',\n",
              "     'city': 'New York',\n",
              "     'country': 'United States',\n",
              "     'crossStreet': 'btwn Sullivan & Thompson St',\n",
              "     'distance': 1542,\n",
              "     'formattedAddress': ['189 Spring St (btwn Sullivan & Thompson St)',\n",
              "      'New York, NY 10012',\n",
              "      'United States'],\n",
              "     'labeledLatLngs': [{'label': 'display',\n",
              "       'lat': 40.7251633496652,\n",
              "       'lng': -74.00297583591562}],\n",
              "     'lat': 40.7251633496652,\n",
              "     'lng': -74.00297583591562,\n",
              "     'postalCode': '10012',\n",
              "     'state': 'NY'},\n",
              "    'name': 'Dominique Ansel Bakery',\n",
              "    'venuePage': {'id': '43632227'}},\n",
              "   {'categories': [{'icon': {'prefix': 'https://ss3.4sqi.net/img/categories_v2/nightlife/cocktails_',\n",
              "       'suffix': '.png'},\n",
              "      'id': '4bf58dd8d48988d11e941735',\n",
              "      'name': 'Cocktail Bar',\n",
              "      'pluralName': 'Cocktail Bars',\n",
              "      'primary': True,\n",
              "      'shortName': 'Cocktail'}],\n",
              "    'id': '4de3e4effa7651589f21983d',\n",
              "    'location': {'address': '18 Spring St',\n",
              "     'cc': 'US',\n",
              "     'city': 'New York',\n",
              "     'country': 'United States',\n",
              "     'crossStreet': 'btwn Mott & Elizabeth St',\n",
              "     'distance': 1855,\n",
              "     'formattedAddress': ['18 Spring St (btwn Mott & Elizabeth St)',\n",
              "      'New York, NY 10012',\n",
              "      'United States'],\n",
              "     'labeledLatLngs': [{'label': 'display',\n",
              "       'lat': 40.72131099002744,\n",
              "       'lng': -73.99501204490662}],\n",
              "     'lat': 40.72131099002744,\n",
              "     'lng': -73.99501204490662,\n",
              "     'postalCode': '10012',\n",
              "     'state': 'NY'},\n",
              "    'name': \"Mother's Ruin\",\n",
              "    'venuePage': {'id': '55033775'}},\n",
              "   {'categories': [{'icon': {'prefix': 'https://ss3.4sqi.net/img/categories_v2/food/french_',\n",
              "       'suffix': '.png'},\n",
              "      'id': '4bf58dd8d48988d10c941735',\n",
              "      'name': 'French Restaurant',\n",
              "      'pluralName': 'French Restaurants',\n",
              "      'primary': True,\n",
              "      'shortName': 'French'}],\n",
              "    'id': '5a382327dee7707dd4842ab8',\n",
              "    'location': {'address': '53 Howard St',\n",
              "     'cc': 'US',\n",
              "     'city': 'New York',\n",
              "     'country': 'United States',\n",
              "     'crossStreet': 'at Mercer St',\n",
              "     'distance': 1258,\n",
              "     'formattedAddress': ['53 Howard St (at Mercer St)',\n",
              "      'New York, NY 10013',\n",
              "      'United States'],\n",
              "     'labeledLatLngs': [{'label': 'display',\n",
              "       'lat': 40.72021170000001,\n",
              "       'lng': -74.00213080000002}],\n",
              "     'lat': 40.72021170000001,\n",
              "     'lng': -74.00213080000002,\n",
              "     'neighborhood': 'SoHo',\n",
              "     'postalCode': '10013',\n",
              "     'state': 'NY'},\n",
              "    'name': 'La Mercerie'},\n",
              "   {'categories': [{'icon': {'prefix': 'https://ss3.4sqi.net/img/categories_v2/parks_outdoors/bridge_',\n",
              "       'suffix': '.png'},\n",
              "      'id': '4bf58dd8d48988d1df941735',\n",
              "      'name': 'Bridge',\n",
              "      'pluralName': 'Bridges',\n",
              "      'primary': True,\n",
              "      'shortName': 'Bridge'}],\n",
              "    'id': '4a43bcb7f964a520bba61fe3',\n",
              "    'location': {'address': 'Brooklyn Bridge',\n",
              "     'cc': 'US',\n",
              "     'city': 'New York',\n",
              "     'country': 'United States',\n",
              "     'distance': 1863,\n",
              "     'formattedAddress': ['Brooklyn Bridge',\n",
              "      'New York, NY 10038',\n",
              "      'United States'],\n",
              "     'labeledLatLngs': [{'label': 'display',\n",
              "       'lat': 40.70596749893083,\n",
              "       'lng': -73.99670720100403}],\n",
              "     'lat': 40.70596749893083,\n",
              "     'lng': -73.99670720100403,\n",
              "     'postalCode': '10038',\n",
              "     'state': 'NY'},\n",
              "    'name': 'Brooklyn Bridge'},\n",
              "   {'categories': [{'icon': {'prefix': 'https://ss3.4sqi.net/img/categories_v2/food/italian_',\n",
              "       'suffix': '.png'},\n",
              "      'id': '4bf58dd8d48988d110941735',\n",
              "      'name': 'Italian Restaurant',\n",
              "      'pluralName': 'Italian Restaurants',\n",
              "      'primary': True,\n",
              "      'shortName': 'Italian'}],\n",
              "    'delivery': {'id': '347865',\n",
              "     'provider': {'icon': {'name': '/delivery_provider_seamless_20180129.png',\n",
              "       'prefix': 'https://fastly.4sqi.net/img/general/cap/',\n",
              "       'sizes': [40, 50]},\n",
              "      'name': 'seamless'},\n",
              "     'url': 'https://www.seamless.com/menu/industry-kitchen-70-south-st-new-york/347865?affiliate=1131&utm_source=foursquare-affiliate-network&utm_medium=affiliate&utm_campaign=1131&utm_content=347865'},\n",
              "    'id': '55387c1b498e4eca6482f4f5',\n",
              "    'location': {'address': '70 South St',\n",
              "     'cc': 'US',\n",
              "     'city': 'New York',\n",
              "     'country': 'United States',\n",
              "     'crossStreet': 'Maiden Ln',\n",
              "     'distance': 1436,\n",
              "     'formattedAddress': ['70 South St (Maiden Ln)',\n",
              "      'New York, NY 10005',\n",
              "      'United States'],\n",
              "     'labeledLatLngs': [{'label': 'display',\n",
              "       'lat': 40.70483308721023,\n",
              "       'lng': -74.00478253807265}],\n",
              "     'lat': 40.70483308721023,\n",
              "     'lng': -74.00478253807265,\n",
              "     'postalCode': '10005',\n",
              "     'state': 'NY'},\n",
              "    'name': 'Industry Kitchen'},\n",
              "   {'categories': [{'icon': {'prefix': 'https://ss3.4sqi.net/img/categories_v2/food/malaysian_',\n",
              "       'suffix': '.png'},\n",
              "      'id': '4bf58dd8d48988d156941735',\n",
              "      'name': 'Malay Restaurant',\n",
              "      'pluralName': 'Malay Restaurants',\n",
              "      'primary': True,\n",
              "      'shortName': 'Malay'}],\n",
              "    'delivery': {'id': '467748',\n",
              "     'provider': {'icon': {'name': '/delivery_provider_seamless_20180129.png',\n",
              "       'prefix': 'https://fastly.4sqi.net/img/general/cap/',\n",
              "       'sizes': [40, 50]},\n",
              "      'name': 'seamless'},\n",
              "     'url': 'https://www.seamless.com/menu/wok-wok-11-mott-st-new-york/467748?affiliate=1131&utm_source=foursquare-affiliate-network&utm_medium=affiliate&utm_campaign=1131&utm_content=467748'},\n",
              "    'id': '55b52904498edca26ecc7a7f',\n",
              "    'location': {'address': '11 Mott St',\n",
              "     'cc': 'US',\n",
              "     'city': 'New York',\n",
              "     'country': 'United States',\n",
              "     'distance': 1395,\n",
              "     'formattedAddress': ['11 Mott St', 'New York, NY 10013', 'United States'],\n",
              "     'labeledLatLngs': [{'label': 'display',\n",
              "       'lat': 40.714055867818075,\n",
              "       'lng': -73.99883871163942}],\n",
              "     'lat': 40.714055867818075,\n",
              "     'lng': -73.99883871163942,\n",
              "     'postalCode': '10013',\n",
              "     'state': 'NY'},\n",
              "    'name': 'Wok Wok Southeast Asian Kitchen',\n",
              "    'venuePage': {'id': '163913192'}},\n",
              "   {'categories': [{'icon': {'prefix': 'https://ss3.4sqi.net/img/categories_v2/parks_outdoors/beach_',\n",
              "       'suffix': '.png'},\n",
              "      'id': '4bf58dd8d48988d1e2941735',\n",
              "      'name': 'Beach',\n",
              "      'pluralName': 'Beaches',\n",
              "      'primary': True,\n",
              "      'shortName': 'Beach'}],\n",
              "    'id': '4dd77d22b3adc64ae076925d',\n",
              "    'location': {'address': 'new york',\n",
              "     'cc': 'US',\n",
              "     'city': 'New York',\n",
              "     'country': 'United States',\n",
              "     'distance': 828,\n",
              "     'formattedAddress': ['new york', 'New York, NY', 'United States'],\n",
              "     'labeledLatLngs': [{'label': 'display',\n",
              "       'lat': 40.712780844159425,\n",
              "       'lng': -74.00594379881144}],\n",
              "     'lat': 40.712780844159425,\n",
              "     'lng': -74.00594379881144,\n",
              "     'state': 'NY'},\n",
              "    'name': 'St comunity beach'},\n",
              "   {'categories': [{'icon': {'prefix': 'https://ss3.4sqi.net/img/categories_v2/food/seafood_',\n",
              "       'suffix': '.png'},\n",
              "      'id': '4bf58dd8d48988d1ce941735',\n",
              "      'name': 'Seafood Restaurant',\n",
              "      'pluralName': 'Seafood Restaurants',\n",
              "      'primary': True,\n",
              "      'shortName': 'Seafood'}],\n",
              "    'id': '5cd365e701bc5a002c649797',\n",
              "    'location': {'address': '89 South St',\n",
              "     'cc': 'US',\n",
              "     'city': 'New York',\n",
              "     'country': 'United States',\n",
              "     'crossStreet': 'Fulton',\n",
              "     'distance': 1612,\n",
              "     'formattedAddress': ['89 South St (Fulton)',\n",
              "      'New York, NY 10038',\n",
              "      'United States'],\n",
              "     'labeledLatLngs': [{'label': 'display',\n",
              "       'lat': 40.705324171819406,\n",
              "       'lng': -74.00105682439929}],\n",
              "     'lat': 40.705324171819406,\n",
              "     'lng': -74.00105682439929,\n",
              "     'postalCode': '10038',\n",
              "     'state': 'NY'},\n",
              "    'name': 'The Fulton'},\n",
              "   {'categories': [{'icon': {'prefix': 'https://ss3.4sqi.net/img/categories_v2/food/mexican_',\n",
              "       'suffix': '.png'},\n",
              "      'id': '4bf58dd8d48988d1c1941735',\n",
              "      'name': 'Mexican Restaurant',\n",
              "      'pluralName': 'Mexican Restaurants',\n",
              "      'primary': True,\n",
              "      'shortName': 'Mexican'}],\n",
              "    'id': '5b2d49ad6f706a002c52d50b',\n",
              "    'location': {'address': '76 Varick Street',\n",
              "     'cc': 'US',\n",
              "     'city': 'New York',\n",
              "     'country': 'United States',\n",
              "     'distance': 1183,\n",
              "     'formattedAddress': ['76 Varick Street',\n",
              "      'New York, NY 10013',\n",
              "      'United States'],\n",
              "     'labeledLatLngs': [{'label': 'display',\n",
              "       'lat': 40.72284161744163,\n",
              "       'lng': -74.00592952161935}],\n",
              "     'lat': 40.72284161744163,\n",
              "     'lng': -74.00592952161935,\n",
              "     'postalCode': '10013',\n",
              "     'state': 'NY'},\n",
              "    'name': 'Gitano'},\n",
              "   {'categories': [{'icon': {'prefix': 'https://ss3.4sqi.net/img/categories_v2/building/cityhall_',\n",
              "       'suffix': '.png'},\n",
              "      'id': '4bf58dd8d48988d129941735',\n",
              "      'name': 'City Hall',\n",
              "      'pluralName': 'City Halls',\n",
              "      'primary': True,\n",
              "      'shortName': 'City Hall'}],\n",
              "    'id': '51a4bc7c498e469047be66d6',\n",
              "    'location': {'address': 'City Hall',\n",
              "     'cc': 'US',\n",
              "     'city': 'New York',\n",
              "     'country': 'United States',\n",
              "     'distance': 868,\n",
              "     'formattedAddress': ['City Hall', 'New York, NY 10007', 'United States'],\n",
              "     'labeledLatLngs': [{'label': 'display',\n",
              "       'lat': 40.71273609783686,\n",
              "       'lng': -74.00547221171317}],\n",
              "     'lat': 40.71273609783686,\n",
              "     'lng': -74.00547221171317,\n",
              "     'postalCode': '10007',\n",
              "     'state': 'NY'},\n",
              "    'name': 'City Hall Council Chambers'},\n",
              "   {'categories': [{'icon': {'prefix': 'https://ss3.4sqi.net/img/categories_v2/food/dessert_',\n",
              "       'suffix': '.png'},\n",
              "      'id': '4bf58dd8d48988d1d0941735',\n",
              "      'name': 'Dessert Shop',\n",
              "      'pluralName': 'Dessert Shops',\n",
              "      'primary': True,\n",
              "      'shortName': 'Desserts'}],\n",
              "    'delivery': {'id': '942125',\n",
              "     'provider': {'icon': {'name': '/delivery_provider_seamless_20180129.png',\n",
              "       'prefix': 'https://fastly.4sqi.net/img/general/cap/',\n",
              "       'sizes': [40, 50]},\n",
              "      'name': 'seamless'},\n",
              "     'url': 'https://www.seamless.com/menu/alimama-tea-89-bayard-st-frnt-a-new-york/942125?affiliate=1131&utm_source=foursquare-affiliate-network&utm_medium=affiliate&utm_campaign=1131&utm_content=942125'},\n",
              "    'id': '5a91cf271de7652a1150d942',\n",
              "    'location': {'address': '89 Bayard St',\n",
              "     'cc': 'US',\n",
              "     'city': 'New York',\n",
              "     'country': 'United States',\n",
              "     'crossStreet': 'btwn Mulberry & Mott St',\n",
              "     'distance': 1370,\n",
              "     'formattedAddress': ['89 Bayard St (btwn Mulberry & Mott St)',\n",
              "      'New York, NY 10013',\n",
              "      'United States'],\n",
              "     'labeledLatLngs': [{'label': 'display',\n",
              "       'lat': 40.7158544325844,\n",
              "       'lng': -73.99913855578315}],\n",
              "     'lat': 40.7158544325844,\n",
              "     'lng': -73.99913855578315,\n",
              "     'postalCode': '10013',\n",
              "     'state': 'NY'},\n",
              "    'name': 'Alimama'}]}}"
            ]
          },
          "metadata": {
            "tags": []
          },
          "execution_count": 34
        }
      ]
    },
    {
      "cell_type": "markdown",
      "metadata": {
        "id": "ckV8qj8CVV5U",
        "colab_type": "text"
      },
      "source": [
        "**Check if any venues are trending at this time**"
      ]
    },
    {
      "cell_type": "code",
      "metadata": {
        "id": "R0PvPk9KVT29",
        "colab_type": "code",
        "colab": {
          "base_uri": "https://localhost:8080/",
          "height": 74
        },
        "outputId": "fa46ce78-47e1-4907-e497-689ac8f83d83"
      },
      "source": [
        "if len(results['response']['venues']) == 0:\n",
        "    trending_venues_df = 'No trending venues are available at the moment!'\n",
        "    \n",
        "else:\n",
        "    trending_venues = results['response']['venues']\n",
        "    trending_venues_df = json_normalize(trending_venues)\n",
        "\n",
        "    # filter columns\n",
        "    columns_filtered = ['name', 'categories'] + ['location.distance', 'location.city', 'location.postalCode', 'location.state', 'location.country', 'location.lat', 'location.lng']\n",
        "    trending_venues_df = trending_venues_df.loc[:, columns_filtered]\n",
        "\n",
        "    # filter the category for each row\n",
        "    trending_venues_df['categories'] = trending_venues_df.apply(get_category_type, axis=1)"
      ],
      "execution_count": 35,
      "outputs": [
        {
          "output_type": "stream",
          "text": [
            "/usr/local/lib/python3.6/dist-packages/ipykernel_launcher.py:6: FutureWarning: pandas.io.json.json_normalize is deprecated, use pandas.json_normalize instead\n",
            "  \n"
          ],
          "name": "stderr"
        }
      ]
    },
    {
      "cell_type": "code",
      "metadata": {
        "id": "PQlD8ke8VZ5W",
        "colab_type": "code",
        "colab": {
          "base_uri": "https://localhost:8080/",
          "height": 1074
        },
        "outputId": "b1c00474-2fa4-400a-eacf-b16f313c3295"
      },
      "source": [
        "# display trending venues\n",
        "trending_venues_df"
      ],
      "execution_count": 36,
      "outputs": [
        {
          "output_type": "execute_result",
          "data": {
            "text/html": [
              "<div>\n",
              "<style scoped>\n",
              "    .dataframe tbody tr th:only-of-type {\n",
              "        vertical-align: middle;\n",
              "    }\n",
              "\n",
              "    .dataframe tbody tr th {\n",
              "        vertical-align: top;\n",
              "    }\n",
              "\n",
              "    .dataframe thead th {\n",
              "        text-align: right;\n",
              "    }\n",
              "</style>\n",
              "<table border=\"1\" class=\"dataframe\">\n",
              "  <thead>\n",
              "    <tr style=\"text-align: right;\">\n",
              "      <th></th>\n",
              "      <th>name</th>\n",
              "      <th>categories</th>\n",
              "      <th>location.distance</th>\n",
              "      <th>location.city</th>\n",
              "      <th>location.postalCode</th>\n",
              "      <th>location.state</th>\n",
              "      <th>location.country</th>\n",
              "      <th>location.lat</th>\n",
              "      <th>location.lng</th>\n",
              "    </tr>\n",
              "  </thead>\n",
              "  <tbody>\n",
              "    <tr>\n",
              "      <th>0</th>\n",
              "      <td>Garden Of Eden</td>\n",
              "      <td>Flower Shop</td>\n",
              "      <td>827</td>\n",
              "      <td>New York</td>\n",
              "      <td>NaN</td>\n",
              "      <td>NY</td>\n",
              "      <td>United States</td>\n",
              "      <td>40.712788</td>\n",
              "      <td>-74.005953</td>\n",
              "    </tr>\n",
              "    <tr>\n",
              "      <th>1</th>\n",
              "      <td>Morgenstern’s Finest Ice Cream</td>\n",
              "      <td>Ice Cream Shop</td>\n",
              "      <td>1875</td>\n",
              "      <td>New York</td>\n",
              "      <td>10012</td>\n",
              "      <td>NY</td>\n",
              "      <td>United States</td>\n",
              "      <td>40.727057</td>\n",
              "      <td>-73.999864</td>\n",
              "    </tr>\n",
              "    <tr>\n",
              "      <th>2</th>\n",
              "      <td>Malibu Farm</td>\n",
              "      <td>Restaurant</td>\n",
              "      <td>1551</td>\n",
              "      <td>New York</td>\n",
              "      <td>10038</td>\n",
              "      <td>NY</td>\n",
              "      <td>United States</td>\n",
              "      <td>40.705778</td>\n",
              "      <td>-74.001506</td>\n",
              "    </tr>\n",
              "    <tr>\n",
              "      <th>3</th>\n",
              "      <td>Carbone</td>\n",
              "      <td>Italian Restaurant</td>\n",
              "      <td>1929</td>\n",
              "      <td>New York</td>\n",
              "      <td>10012</td>\n",
              "      <td>NY</td>\n",
              "      <td>United States</td>\n",
              "      <td>40.727903</td>\n",
              "      <td>-74.000136</td>\n",
              "    </tr>\n",
              "    <tr>\n",
              "      <th>4</th>\n",
              "      <td>Pera Soho</td>\n",
              "      <td>Restaurant</td>\n",
              "      <td>1410</td>\n",
              "      <td>New York</td>\n",
              "      <td>10012</td>\n",
              "      <td>NY</td>\n",
              "      <td>United States</td>\n",
              "      <td>40.723817</td>\n",
              "      <td>-74.003379</td>\n",
              "    </tr>\n",
              "    <tr>\n",
              "      <th>5</th>\n",
              "      <td>Golden Diner</td>\n",
              "      <td>Diner</td>\n",
              "      <td>1804</td>\n",
              "      <td>New York</td>\n",
              "      <td>10002</td>\n",
              "      <td>NY</td>\n",
              "      <td>United States</td>\n",
              "      <td>40.712451</td>\n",
              "      <td>-73.994213</td>\n",
              "    </tr>\n",
              "    <tr>\n",
              "      <th>6</th>\n",
              "      <td>Kimika</td>\n",
              "      <td>Japanese Restaurant</td>\n",
              "      <td>1801</td>\n",
              "      <td>New York</td>\n",
              "      <td>10012</td>\n",
              "      <td>NY</td>\n",
              "      <td>United States</td>\n",
              "      <td>40.720581</td>\n",
              "      <td>-73.995314</td>\n",
              "    </tr>\n",
              "    <tr>\n",
              "      <th>7</th>\n",
              "      <td>Thai Diner</td>\n",
              "      <td>Thai Restaurant</td>\n",
              "      <td>1782</td>\n",
              "      <td>New York</td>\n",
              "      <td>10012</td>\n",
              "      <td>NY</td>\n",
              "      <td>United States</td>\n",
              "      <td>40.720739</td>\n",
              "      <td>-73.995631</td>\n",
              "    </tr>\n",
              "    <tr>\n",
              "      <th>8</th>\n",
              "      <td>Lutze Biergarten</td>\n",
              "      <td>Beer Garden</td>\n",
              "      <td>1549</td>\n",
              "      <td>Jersey City</td>\n",
              "      <td>07302</td>\n",
              "      <td>NJ</td>\n",
              "      <td>United States</td>\n",
              "      <td>40.720540</td>\n",
              "      <td>-74.032161</td>\n",
              "    </tr>\n",
              "    <tr>\n",
              "      <th>9</th>\n",
              "      <td>City Vineyard</td>\n",
              "      <td>Wine Bar</td>\n",
              "      <td>723</td>\n",
              "      <td>New York</td>\n",
              "      <td>10013</td>\n",
              "      <td>NY</td>\n",
              "      <td>United States</td>\n",
              "      <td>40.721193</td>\n",
              "      <td>-74.012921</td>\n",
              "    </tr>\n",
              "    <tr>\n",
              "      <th>10</th>\n",
              "      <td>The Rooftop @ Pier 17</td>\n",
              "      <td>Music Venue</td>\n",
              "      <td>1568</td>\n",
              "      <td>New York</td>\n",
              "      <td>10038</td>\n",
              "      <td>NY</td>\n",
              "      <td>United States</td>\n",
              "      <td>40.705463</td>\n",
              "      <td>-74.001598</td>\n",
              "    </tr>\n",
              "    <tr>\n",
              "      <th>11</th>\n",
              "      <td>Dominique Ansel Bakery</td>\n",
              "      <td>Bakery</td>\n",
              "      <td>1542</td>\n",
              "      <td>New York</td>\n",
              "      <td>10012</td>\n",
              "      <td>NY</td>\n",
              "      <td>United States</td>\n",
              "      <td>40.725163</td>\n",
              "      <td>-74.002976</td>\n",
              "    </tr>\n",
              "    <tr>\n",
              "      <th>12</th>\n",
              "      <td>Mother's Ruin</td>\n",
              "      <td>Cocktail Bar</td>\n",
              "      <td>1855</td>\n",
              "      <td>New York</td>\n",
              "      <td>10012</td>\n",
              "      <td>NY</td>\n",
              "      <td>United States</td>\n",
              "      <td>40.721311</td>\n",
              "      <td>-73.995012</td>\n",
              "    </tr>\n",
              "    <tr>\n",
              "      <th>13</th>\n",
              "      <td>La Mercerie</td>\n",
              "      <td>French Restaurant</td>\n",
              "      <td>1258</td>\n",
              "      <td>New York</td>\n",
              "      <td>10013</td>\n",
              "      <td>NY</td>\n",
              "      <td>United States</td>\n",
              "      <td>40.720212</td>\n",
              "      <td>-74.002131</td>\n",
              "    </tr>\n",
              "    <tr>\n",
              "      <th>14</th>\n",
              "      <td>Brooklyn Bridge</td>\n",
              "      <td>Bridge</td>\n",
              "      <td>1863</td>\n",
              "      <td>New York</td>\n",
              "      <td>10038</td>\n",
              "      <td>NY</td>\n",
              "      <td>United States</td>\n",
              "      <td>40.705967</td>\n",
              "      <td>-73.996707</td>\n",
              "    </tr>\n",
              "    <tr>\n",
              "      <th>15</th>\n",
              "      <td>Industry Kitchen</td>\n",
              "      <td>Italian Restaurant</td>\n",
              "      <td>1436</td>\n",
              "      <td>New York</td>\n",
              "      <td>10005</td>\n",
              "      <td>NY</td>\n",
              "      <td>United States</td>\n",
              "      <td>40.704833</td>\n",
              "      <td>-74.004783</td>\n",
              "    </tr>\n",
              "    <tr>\n",
              "      <th>16</th>\n",
              "      <td>Wok Wok Southeast Asian Kitchen</td>\n",
              "      <td>Malay Restaurant</td>\n",
              "      <td>1395</td>\n",
              "      <td>New York</td>\n",
              "      <td>10013</td>\n",
              "      <td>NY</td>\n",
              "      <td>United States</td>\n",
              "      <td>40.714056</td>\n",
              "      <td>-73.998839</td>\n",
              "    </tr>\n",
              "    <tr>\n",
              "      <th>17</th>\n",
              "      <td>St comunity beach</td>\n",
              "      <td>Beach</td>\n",
              "      <td>828</td>\n",
              "      <td>New York</td>\n",
              "      <td>NaN</td>\n",
              "      <td>NY</td>\n",
              "      <td>United States</td>\n",
              "      <td>40.712781</td>\n",
              "      <td>-74.005944</td>\n",
              "    </tr>\n",
              "    <tr>\n",
              "      <th>18</th>\n",
              "      <td>The Fulton</td>\n",
              "      <td>Seafood Restaurant</td>\n",
              "      <td>1612</td>\n",
              "      <td>New York</td>\n",
              "      <td>10038</td>\n",
              "      <td>NY</td>\n",
              "      <td>United States</td>\n",
              "      <td>40.705324</td>\n",
              "      <td>-74.001057</td>\n",
              "    </tr>\n",
              "    <tr>\n",
              "      <th>19</th>\n",
              "      <td>Gitano</td>\n",
              "      <td>Mexican Restaurant</td>\n",
              "      <td>1183</td>\n",
              "      <td>New York</td>\n",
              "      <td>10013</td>\n",
              "      <td>NY</td>\n",
              "      <td>United States</td>\n",
              "      <td>40.722842</td>\n",
              "      <td>-74.005930</td>\n",
              "    </tr>\n",
              "    <tr>\n",
              "      <th>20</th>\n",
              "      <td>City Hall Council Chambers</td>\n",
              "      <td>City Hall</td>\n",
              "      <td>868</td>\n",
              "      <td>New York</td>\n",
              "      <td>10007</td>\n",
              "      <td>NY</td>\n",
              "      <td>United States</td>\n",
              "      <td>40.712736</td>\n",
              "      <td>-74.005472</td>\n",
              "    </tr>\n",
              "    <tr>\n",
              "      <th>21</th>\n",
              "      <td>Alimama</td>\n",
              "      <td>Dessert Shop</td>\n",
              "      <td>1370</td>\n",
              "      <td>New York</td>\n",
              "      <td>10013</td>\n",
              "      <td>NY</td>\n",
              "      <td>United States</td>\n",
              "      <td>40.715854</td>\n",
              "      <td>-73.999139</td>\n",
              "    </tr>\n",
              "  </tbody>\n",
              "</table>\n",
              "</div>"
            ],
            "text/plain": [
              "                               name  ... location.lng\n",
              "0   Garden Of Eden                   ... -74.005953  \n",
              "1   Morgenstern’s Finest Ice Cream   ... -73.999864  \n",
              "2   Malibu Farm                      ... -74.001506  \n",
              "3   Carbone                          ... -74.000136  \n",
              "4   Pera Soho                        ... -74.003379  \n",
              "5   Golden Diner                     ... -73.994213  \n",
              "6   Kimika                           ... -73.995314  \n",
              "7   Thai Diner                       ... -73.995631  \n",
              "8   Lutze Biergarten                 ... -74.032161  \n",
              "9   City Vineyard                    ... -74.012921  \n",
              "10  The Rooftop @ Pier 17            ... -74.001598  \n",
              "11  Dominique Ansel Bakery           ... -74.002976  \n",
              "12  Mother's Ruin                    ... -73.995012  \n",
              "13  La Mercerie                      ... -74.002131  \n",
              "14  Brooklyn Bridge                  ... -73.996707  \n",
              "15  Industry Kitchen                 ... -74.004783  \n",
              "16  Wok Wok Southeast Asian Kitchen  ... -73.998839  \n",
              "17  St comunity beach                ... -74.005944  \n",
              "18  The Fulton                       ... -74.001057  \n",
              "19  Gitano                           ... -74.005930  \n",
              "20  City Hall Council Chambers       ... -74.005472  \n",
              "21  Alimama                          ... -73.999139  \n",
              "\n",
              "[22 rows x 9 columns]"
            ]
          },
          "metadata": {
            "tags": []
          },
          "execution_count": 36
        }
      ]
    },
    {
      "cell_type": "markdown",
      "metadata": {
        "id": "f_4AYYj1VgV7",
        "colab_type": "text"
      },
      "source": [
        "**Visualize trending venues**"
      ]
    },
    {
      "cell_type": "code",
      "metadata": {
        "id": "fna00uZRVb2p",
        "colab_type": "code",
        "colab": {}
      },
      "source": [
        "if len(results['response']['venues']) == 0:\n",
        "    venues_map = 'Cannot generate visual as no trending venues are available at the moment!'\n",
        "\n",
        "else:\n",
        "    venues_map = folium.Map(location=[latitude, longitude], zoom_start=15) # generate map centred around Ecco\n",
        "\n",
        "\n",
        "    # add Ecco as a red circle mark\n",
        "    folium.features.CircleMarker(\n",
        "        [latitude, longitude],\n",
        "        radius=10,\n",
        "        popup='Ecco',\n",
        "        fill=True,\n",
        "        color='red',\n",
        "        fill_color='red',\n",
        "        fill_opacity=0.6\n",
        "    ).add_to(venues_map)\n",
        "\n",
        "\n",
        "    # add the trending venues as blue circle markers\n",
        "    for lat, lng, label in zip(trending_venues_df['location.lat'], trending_venues_df['location.lng'], trending_venues_df['name']):\n",
        "        folium.features.CircleMarker(\n",
        "            [lat, lng],\n",
        "            radius=5,\n",
        "            poup=label,\n",
        "            fill=True,\n",
        "            color='blue',\n",
        "            fill_color='blue',\n",
        "            fill_opacity=0.6\n",
        "        ).add_to(venues_map)"
      ],
      "execution_count": null,
      "outputs": []
    },
    {
      "cell_type": "code",
      "metadata": {
        "id": "rYJtYwuWVfIo",
        "colab_type": "code",
        "colab": {
          "base_uri": "https://localhost:8080/",
          "height": 686
        },
        "outputId": "3d1b42ca-659b-4cd0-d7a9-49a2c4d1487b"
      },
      "source": [
        "# display map\n",
        "venues_map"
      ],
      "execution_count": 38,
      "outputs": [
        {
          "output_type": "execute_result",
          "data": {
            "text/html": [
              "<div style=\"width:100%;\"><div style=\"position:relative;width:100%;height:0;padding-bottom:60%;\"><span style=\"color:#565656\">Make this Notebook Trusted to load map: File -> Trust Notebook</span><iframe src=\"about:blank\" style=\"position:absolute;width:100%;height:100%;left:0;top:0;border:none !important;\" data-html=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 onload=\"this.contentDocument.open();this.contentDocument.write(atob(this.getAttribute('data-html')));this.contentDocument.close();\" allowfullscreen webkitallowfullscreen mozallowfullscreen></iframe></div></div>"
            ],
            "text/plain": [
              "<folium.folium.Map at 0x7f2e9338d710>"
            ]
          },
          "metadata": {
            "tags": []
          },
          "execution_count": 38
        }
      ]
    }
  ]
}